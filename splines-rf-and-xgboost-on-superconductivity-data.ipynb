{
 "cells": [
  {
   "cell_type": "code",
   "execution_count": 1,
   "id": "5c589eed",
   "metadata": {
    "execution": {
     "iopub.execute_input": "2023-04-18T09:53:48.655761Z",
     "iopub.status.busy": "2023-04-18T09:53:48.655207Z",
     "iopub.status.idle": "2023-04-18T09:53:50.703961Z",
     "shell.execute_reply": "2023-04-18T09:53:50.702719Z"
    },
    "executionInfo": {
     "elapsed": 11564,
     "status": "ok",
     "timestamp": 1681767200661,
     "user": {
      "displayName": "Nikita Mahbub",
      "userId": "07436958521256395082"
     },
     "user_tz": -360
    },
    "id": "LeEPPxCqHmiT",
    "outputId": "5e68aab8-4753-4630-e0fa-2228c926c930",
    "papermill": {
     "duration": 2.066758,
     "end_time": "2023-04-18T09:53:50.706931",
     "exception": false,
     "start_time": "2023-04-18T09:53:48.640173",
     "status": "completed"
    },
    "tags": []
   },
   "outputs": [],
   "source": [
    "from matplotlib import pyplot as plt\n",
    "import seaborn as sns\n",
    "import pandas as pd\n",
    "import numpy as np\n",
    "import warnings\n",
    "from sklearn.model_selection import GridSearchCV, RandomizedSearchCV, cross_val_score, KFold\n",
    "from sklearn.metrics import mean_squared_error\n",
    "from sklearn.pipeline import Pipeline\n",
    "from sklearn.preprocessing import SplineTransformer\n",
    "from sklearn.linear_model import Ridge\n",
    "from sklearn.ensemble import RandomForestRegressor\n",
    "from xgboost import XGBRegressor\n",
    "\n",
    "warnings.filterwarnings('ignore')\n",
    "%matplotlib inline"
   ]
  },
  {
   "cell_type": "markdown",
   "id": "18e63e18",
   "metadata": {
    "id": "Zi8NNuHQHmit",
    "papermill": {
     "duration": 0.012246,
     "end_time": "2023-04-18T09:53:50.731716",
     "exception": false,
     "start_time": "2023-04-18T09:53:50.719470",
     "status": "completed"
    },
    "tags": []
   },
   "source": [
    "## Importing and cleaning data"
   ]
  },
  {
   "cell_type": "markdown",
   "id": "29f8e4bc",
   "metadata": {
    "id": "nt-DvqqzHmiu",
    "papermill": {
     "duration": 0.012623,
     "end_time": "2023-04-18T09:53:50.758155",
     "exception": false,
     "start_time": "2023-04-18T09:53:50.745532",
     "status": "completed"
    },
    "tags": []
   },
   "source": [
    "Loading the dataset:"
   ]
  },
  {
   "cell_type": "code",
   "execution_count": 2,
   "id": "82b9ea0a",
   "metadata": {
    "execution": {
     "iopub.execute_input": "2023-04-18T09:53:50.785506Z",
     "iopub.status.busy": "2023-04-18T09:53:50.785062Z",
     "iopub.status.idle": "2023-04-18T09:53:51.849291Z",
     "shell.execute_reply": "2023-04-18T09:53:51.848016Z"
    },
    "executionInfo": {
     "elapsed": 1203,
     "status": "ok",
     "timestamp": 1681767207449,
     "user": {
      "displayName": "Nikita Mahbub",
      "userId": "07436958521256395082"
     },
     "user_tz": -360
    },
    "id": "ipAIwkOPHmiv",
    "outputId": "284577ed-018a-4d63-8a5c-047f5f7cb0dd",
    "papermill": {
     "duration": 1.082145,
     "end_time": "2023-04-18T09:53:51.853020",
     "exception": false,
     "start_time": "2023-04-18T09:53:50.770875",
     "status": "completed"
    },
    "tags": []
   },
   "outputs": [
    {
     "data": {
      "text/html": [
       "<div>\n",
       "<style scoped>\n",
       "    .dataframe tbody tr th:only-of-type {\n",
       "        vertical-align: middle;\n",
       "    }\n",
       "\n",
       "    .dataframe tbody tr th {\n",
       "        vertical-align: top;\n",
       "    }\n",
       "\n",
       "    .dataframe thead th {\n",
       "        text-align: right;\n",
       "    }\n",
       "</style>\n",
       "<table border=\"1\" class=\"dataframe\">\n",
       "  <thead>\n",
       "    <tr style=\"text-align: right;\">\n",
       "      <th></th>\n",
       "      <th>number_of_elements</th>\n",
       "      <th>mean_atomic_mass</th>\n",
       "      <th>wtd_mean_atomic_mass</th>\n",
       "      <th>gmean_atomic_mass</th>\n",
       "      <th>wtd_gmean_atomic_mass</th>\n",
       "      <th>entropy_atomic_mass</th>\n",
       "      <th>wtd_entropy_atomic_mass</th>\n",
       "      <th>range_atomic_mass</th>\n",
       "      <th>wtd_range_atomic_mass</th>\n",
       "      <th>std_atomic_mass</th>\n",
       "      <th>...</th>\n",
       "      <th>wtd_mean_Valence</th>\n",
       "      <th>gmean_Valence</th>\n",
       "      <th>wtd_gmean_Valence</th>\n",
       "      <th>entropy_Valence</th>\n",
       "      <th>wtd_entropy_Valence</th>\n",
       "      <th>range_Valence</th>\n",
       "      <th>wtd_range_Valence</th>\n",
       "      <th>std_Valence</th>\n",
       "      <th>wtd_std_Valence</th>\n",
       "      <th>critical_temp</th>\n",
       "    </tr>\n",
       "  </thead>\n",
       "  <tbody>\n",
       "    <tr>\n",
       "      <th>0</th>\n",
       "      <td>4</td>\n",
       "      <td>88.944468</td>\n",
       "      <td>57.862692</td>\n",
       "      <td>66.361592</td>\n",
       "      <td>36.116612</td>\n",
       "      <td>1.181795</td>\n",
       "      <td>1.062396</td>\n",
       "      <td>122.90607</td>\n",
       "      <td>31.794921</td>\n",
       "      <td>51.968828</td>\n",
       "      <td>...</td>\n",
       "      <td>2.257143</td>\n",
       "      <td>2.213364</td>\n",
       "      <td>2.219783</td>\n",
       "      <td>1.368922</td>\n",
       "      <td>1.066221</td>\n",
       "      <td>1</td>\n",
       "      <td>1.085714</td>\n",
       "      <td>0.433013</td>\n",
       "      <td>0.437059</td>\n",
       "      <td>29.0</td>\n",
       "    </tr>\n",
       "    <tr>\n",
       "      <th>1</th>\n",
       "      <td>5</td>\n",
       "      <td>92.729214</td>\n",
       "      <td>58.518416</td>\n",
       "      <td>73.132787</td>\n",
       "      <td>36.396602</td>\n",
       "      <td>1.449309</td>\n",
       "      <td>1.057755</td>\n",
       "      <td>122.90607</td>\n",
       "      <td>36.161939</td>\n",
       "      <td>47.094633</td>\n",
       "      <td>...</td>\n",
       "      <td>2.257143</td>\n",
       "      <td>1.888175</td>\n",
       "      <td>2.210679</td>\n",
       "      <td>1.557113</td>\n",
       "      <td>1.047221</td>\n",
       "      <td>2</td>\n",
       "      <td>1.128571</td>\n",
       "      <td>0.632456</td>\n",
       "      <td>0.468606</td>\n",
       "      <td>26.0</td>\n",
       "    </tr>\n",
       "    <tr>\n",
       "      <th>2</th>\n",
       "      <td>4</td>\n",
       "      <td>88.944468</td>\n",
       "      <td>57.885242</td>\n",
       "      <td>66.361592</td>\n",
       "      <td>36.122509</td>\n",
       "      <td>1.181795</td>\n",
       "      <td>0.975980</td>\n",
       "      <td>122.90607</td>\n",
       "      <td>35.741099</td>\n",
       "      <td>51.968828</td>\n",
       "      <td>...</td>\n",
       "      <td>2.271429</td>\n",
       "      <td>2.213364</td>\n",
       "      <td>2.232679</td>\n",
       "      <td>1.368922</td>\n",
       "      <td>1.029175</td>\n",
       "      <td>1</td>\n",
       "      <td>1.114286</td>\n",
       "      <td>0.433013</td>\n",
       "      <td>0.444697</td>\n",
       "      <td>19.0</td>\n",
       "    </tr>\n",
       "    <tr>\n",
       "      <th>3</th>\n",
       "      <td>4</td>\n",
       "      <td>88.944468</td>\n",
       "      <td>57.873967</td>\n",
       "      <td>66.361592</td>\n",
       "      <td>36.119560</td>\n",
       "      <td>1.181795</td>\n",
       "      <td>1.022291</td>\n",
       "      <td>122.90607</td>\n",
       "      <td>33.768010</td>\n",
       "      <td>51.968828</td>\n",
       "      <td>...</td>\n",
       "      <td>2.264286</td>\n",
       "      <td>2.213364</td>\n",
       "      <td>2.226222</td>\n",
       "      <td>1.368922</td>\n",
       "      <td>1.048834</td>\n",
       "      <td>1</td>\n",
       "      <td>1.100000</td>\n",
       "      <td>0.433013</td>\n",
       "      <td>0.440952</td>\n",
       "      <td>22.0</td>\n",
       "    </tr>\n",
       "    <tr>\n",
       "      <th>4</th>\n",
       "      <td>4</td>\n",
       "      <td>88.944468</td>\n",
       "      <td>57.840143</td>\n",
       "      <td>66.361592</td>\n",
       "      <td>36.110716</td>\n",
       "      <td>1.181795</td>\n",
       "      <td>1.129224</td>\n",
       "      <td>122.90607</td>\n",
       "      <td>27.848743</td>\n",
       "      <td>51.968828</td>\n",
       "      <td>...</td>\n",
       "      <td>2.242857</td>\n",
       "      <td>2.213364</td>\n",
       "      <td>2.206963</td>\n",
       "      <td>1.368922</td>\n",
       "      <td>1.096052</td>\n",
       "      <td>1</td>\n",
       "      <td>1.057143</td>\n",
       "      <td>0.433013</td>\n",
       "      <td>0.428809</td>\n",
       "      <td>23.0</td>\n",
       "    </tr>\n",
       "  </tbody>\n",
       "</table>\n",
       "<p>5 rows × 82 columns</p>\n",
       "</div>"
      ],
      "text/plain": [
       "   number_of_elements  mean_atomic_mass  wtd_mean_atomic_mass  \\\n",
       "0                   4         88.944468             57.862692   \n",
       "1                   5         92.729214             58.518416   \n",
       "2                   4         88.944468             57.885242   \n",
       "3                   4         88.944468             57.873967   \n",
       "4                   4         88.944468             57.840143   \n",
       "\n",
       "   gmean_atomic_mass  wtd_gmean_atomic_mass  entropy_atomic_mass  \\\n",
       "0          66.361592              36.116612             1.181795   \n",
       "1          73.132787              36.396602             1.449309   \n",
       "2          66.361592              36.122509             1.181795   \n",
       "3          66.361592              36.119560             1.181795   \n",
       "4          66.361592              36.110716             1.181795   \n",
       "\n",
       "   wtd_entropy_atomic_mass  range_atomic_mass  wtd_range_atomic_mass  \\\n",
       "0                 1.062396          122.90607              31.794921   \n",
       "1                 1.057755          122.90607              36.161939   \n",
       "2                 0.975980          122.90607              35.741099   \n",
       "3                 1.022291          122.90607              33.768010   \n",
       "4                 1.129224          122.90607              27.848743   \n",
       "\n",
       "   std_atomic_mass  ...  wtd_mean_Valence  gmean_Valence  wtd_gmean_Valence  \\\n",
       "0        51.968828  ...          2.257143       2.213364           2.219783   \n",
       "1        47.094633  ...          2.257143       1.888175           2.210679   \n",
       "2        51.968828  ...          2.271429       2.213364           2.232679   \n",
       "3        51.968828  ...          2.264286       2.213364           2.226222   \n",
       "4        51.968828  ...          2.242857       2.213364           2.206963   \n",
       "\n",
       "   entropy_Valence  wtd_entropy_Valence  range_Valence  wtd_range_Valence  \\\n",
       "0         1.368922             1.066221              1           1.085714   \n",
       "1         1.557113             1.047221              2           1.128571   \n",
       "2         1.368922             1.029175              1           1.114286   \n",
       "3         1.368922             1.048834              1           1.100000   \n",
       "4         1.368922             1.096052              1           1.057143   \n",
       "\n",
       "   std_Valence  wtd_std_Valence  critical_temp  \n",
       "0     0.433013         0.437059           29.0  \n",
       "1     0.632456         0.468606           26.0  \n",
       "2     0.433013         0.444697           19.0  \n",
       "3     0.433013         0.440952           22.0  \n",
       "4     0.433013         0.428809           23.0  \n",
       "\n",
       "[5 rows x 82 columns]"
      ]
     },
     "execution_count": 2,
     "metadata": {},
     "output_type": "execute_result"
    }
   ],
   "source": [
    "path = '/kaggle/input/superconductivty-data-data-set/train.csv'\n",
    "data = pd.read_csv(path)\n",
    "data.head()"
   ]
  },
  {
   "cell_type": "markdown",
   "id": "e7c20ef1",
   "metadata": {
    "id": "r_nbJTTVHmix",
    "papermill": {
     "duration": 0.012736,
     "end_time": "2023-04-18T09:53:51.878605",
     "exception": false,
     "start_time": "2023-04-18T09:53:51.865869",
     "status": "completed"
    },
    "tags": []
   },
   "source": [
    "Printing some basic information about the dataset:"
   ]
  },
  {
   "cell_type": "code",
   "execution_count": 3,
   "id": "c4c10c85",
   "metadata": {
    "execution": {
     "iopub.execute_input": "2023-04-18T09:53:51.907512Z",
     "iopub.status.busy": "2023-04-18T09:53:51.906604Z",
     "iopub.status.idle": "2023-04-18T09:53:51.941973Z",
     "shell.execute_reply": "2023-04-18T09:53:51.940451Z"
    },
    "executionInfo": {
     "elapsed": 10,
     "status": "ok",
     "timestamp": 1681767211846,
     "user": {
      "displayName": "Nikita Mahbub",
      "userId": "07436958521256395082"
     },
     "user_tz": -360
    },
    "id": "itXKKOG_Hmiz",
    "outputId": "8d7dc356-fe17-4bd1-ab8d-00f5e0dc01b9",
    "papermill": {
     "duration": 0.053321,
     "end_time": "2023-04-18T09:53:51.944833",
     "exception": false,
     "start_time": "2023-04-18T09:53:51.891512",
     "status": "completed"
    },
    "tags": []
   },
   "outputs": [
    {
     "name": "stdout",
     "output_type": "stream",
     "text": [
      "<class 'pandas.core.frame.DataFrame'>\n",
      "RangeIndex: 21263 entries, 0 to 21262\n",
      "Data columns (total 82 columns):\n",
      " #   Column                           Non-Null Count  Dtype  \n",
      "---  ------                           --------------  -----  \n",
      " 0   number_of_elements               21263 non-null  int64  \n",
      " 1   mean_atomic_mass                 21263 non-null  float64\n",
      " 2   wtd_mean_atomic_mass             21263 non-null  float64\n",
      " 3   gmean_atomic_mass                21263 non-null  float64\n",
      " 4   wtd_gmean_atomic_mass            21263 non-null  float64\n",
      " 5   entropy_atomic_mass              21263 non-null  float64\n",
      " 6   wtd_entropy_atomic_mass          21263 non-null  float64\n",
      " 7   range_atomic_mass                21263 non-null  float64\n",
      " 8   wtd_range_atomic_mass            21263 non-null  float64\n",
      " 9   std_atomic_mass                  21263 non-null  float64\n",
      " 10  wtd_std_atomic_mass              21263 non-null  float64\n",
      " 11  mean_fie                         21263 non-null  float64\n",
      " 12  wtd_mean_fie                     21263 non-null  float64\n",
      " 13  gmean_fie                        21263 non-null  float64\n",
      " 14  wtd_gmean_fie                    21263 non-null  float64\n",
      " 15  entropy_fie                      21263 non-null  float64\n",
      " 16  wtd_entropy_fie                  21263 non-null  float64\n",
      " 17  range_fie                        21263 non-null  float64\n",
      " 18  wtd_range_fie                    21263 non-null  float64\n",
      " 19  std_fie                          21263 non-null  float64\n",
      " 20  wtd_std_fie                      21263 non-null  float64\n",
      " 21  mean_atomic_radius               21263 non-null  float64\n",
      " 22  wtd_mean_atomic_radius           21263 non-null  float64\n",
      " 23  gmean_atomic_radius              21263 non-null  float64\n",
      " 24  wtd_gmean_atomic_radius          21263 non-null  float64\n",
      " 25  entropy_atomic_radius            21263 non-null  float64\n",
      " 26  wtd_entropy_atomic_radius        21263 non-null  float64\n",
      " 27  range_atomic_radius              21263 non-null  int64  \n",
      " 28  wtd_range_atomic_radius          21263 non-null  float64\n",
      " 29  std_atomic_radius                21263 non-null  float64\n",
      " 30  wtd_std_atomic_radius            21263 non-null  float64\n",
      " 31  mean_Density                     21263 non-null  float64\n",
      " 32  wtd_mean_Density                 21263 non-null  float64\n",
      " 33  gmean_Density                    21263 non-null  float64\n",
      " 34  wtd_gmean_Density                21263 non-null  float64\n",
      " 35  entropy_Density                  21263 non-null  float64\n",
      " 36  wtd_entropy_Density              21263 non-null  float64\n",
      " 37  range_Density                    21263 non-null  float64\n",
      " 38  wtd_range_Density                21263 non-null  float64\n",
      " 39  std_Density                      21263 non-null  float64\n",
      " 40  wtd_std_Density                  21263 non-null  float64\n",
      " 41  mean_ElectronAffinity            21263 non-null  float64\n",
      " 42  wtd_mean_ElectronAffinity        21263 non-null  float64\n",
      " 43  gmean_ElectronAffinity           21263 non-null  float64\n",
      " 44  wtd_gmean_ElectronAffinity       21263 non-null  float64\n",
      " 45  entropy_ElectronAffinity         21263 non-null  float64\n",
      " 46  wtd_entropy_ElectronAffinity     21263 non-null  float64\n",
      " 47  range_ElectronAffinity           21263 non-null  float64\n",
      " 48  wtd_range_ElectronAffinity       21263 non-null  float64\n",
      " 49  std_ElectronAffinity             21263 non-null  float64\n",
      " 50  wtd_std_ElectronAffinity         21263 non-null  float64\n",
      " 51  mean_FusionHeat                  21263 non-null  float64\n",
      " 52  wtd_mean_FusionHeat              21263 non-null  float64\n",
      " 53  gmean_FusionHeat                 21263 non-null  float64\n",
      " 54  wtd_gmean_FusionHeat             21263 non-null  float64\n",
      " 55  entropy_FusionHeat               21263 non-null  float64\n",
      " 56  wtd_entropy_FusionHeat           21263 non-null  float64\n",
      " 57  range_FusionHeat                 21263 non-null  float64\n",
      " 58  wtd_range_FusionHeat             21263 non-null  float64\n",
      " 59  std_FusionHeat                   21263 non-null  float64\n",
      " 60  wtd_std_FusionHeat               21263 non-null  float64\n",
      " 61  mean_ThermalConductivity         21263 non-null  float64\n",
      " 62  wtd_mean_ThermalConductivity     21263 non-null  float64\n",
      " 63  gmean_ThermalConductivity        21263 non-null  float64\n",
      " 64  wtd_gmean_ThermalConductivity    21263 non-null  float64\n",
      " 65  entropy_ThermalConductivity      21263 non-null  float64\n",
      " 66  wtd_entropy_ThermalConductivity  21263 non-null  float64\n",
      " 67  range_ThermalConductivity        21263 non-null  float64\n",
      " 68  wtd_range_ThermalConductivity    21263 non-null  float64\n",
      " 69  std_ThermalConductivity          21263 non-null  float64\n",
      " 70  wtd_std_ThermalConductivity      21263 non-null  float64\n",
      " 71  mean_Valence                     21263 non-null  float64\n",
      " 72  wtd_mean_Valence                 21263 non-null  float64\n",
      " 73  gmean_Valence                    21263 non-null  float64\n",
      " 74  wtd_gmean_Valence                21263 non-null  float64\n",
      " 75  entropy_Valence                  21263 non-null  float64\n",
      " 76  wtd_entropy_Valence              21263 non-null  float64\n",
      " 77  range_Valence                    21263 non-null  int64  \n",
      " 78  wtd_range_Valence                21263 non-null  float64\n",
      " 79  std_Valence                      21263 non-null  float64\n",
      " 80  wtd_std_Valence                  21263 non-null  float64\n",
      " 81  critical_temp                    21263 non-null  float64\n",
      "dtypes: float64(79), int64(3)\n",
      "memory usage: 13.3 MB\n"
     ]
    }
   ],
   "source": [
    "data.info()"
   ]
  },
  {
   "cell_type": "markdown",
   "id": "fb10aa74",
   "metadata": {
    "id": "YpGh1xKHHmiz",
    "papermill": {
     "duration": 0.012708,
     "end_time": "2023-04-18T09:53:51.970850",
     "exception": false,
     "start_time": "2023-04-18T09:53:51.958142",
     "status": "completed"
    },
    "tags": []
   },
   "source": [
    "The dataset contains 21263 observations with 81 features and the target variable, critical_temp. Checking if the dataset contains any columns with missing values:"
   ]
  },
  {
   "cell_type": "code",
   "execution_count": 4,
   "id": "97b736a8",
   "metadata": {
    "execution": {
     "iopub.execute_input": "2023-04-18T09:53:51.999039Z",
     "iopub.status.busy": "2023-04-18T09:53:51.998330Z",
     "iopub.status.idle": "2023-04-18T09:53:52.017836Z",
     "shell.execute_reply": "2023-04-18T09:53:52.016454Z"
    },
    "executionInfo": {
     "elapsed": 480,
     "status": "ok",
     "timestamp": 1681767455448,
     "user": {
      "displayName": "Nikita Mahbub",
      "userId": "07436958521256395082"
     },
     "user_tz": -360
    },
    "id": "-OrwA4QrHmi0",
    "outputId": "2932d30f-1ed6-49c9-dfb8-5c3c8ca33d7e",
    "papermill": {
     "duration": 0.036464,
     "end_time": "2023-04-18T09:53:52.020244",
     "exception": false,
     "start_time": "2023-04-18T09:53:51.983780",
     "status": "completed"
    },
    "tags": []
   },
   "outputs": [
    {
     "data": {
      "text/plain": [
       "Series([], dtype: int64)"
      ]
     },
     "execution_count": 4,
     "metadata": {},
     "output_type": "execute_result"
    }
   ],
   "source": [
    "data.isnull().sum()[data.isnull().sum() != 0].sort_values()"
   ]
  },
  {
   "cell_type": "markdown",
   "id": "0294ba56",
   "metadata": {
    "id": "dlcz_LJTJeIl",
    "papermill": {
     "duration": 0.013269,
     "end_time": "2023-04-18T09:53:52.046768",
     "exception": false,
     "start_time": "2023-04-18T09:53:52.033499",
     "status": "completed"
    },
    "tags": []
   },
   "source": [
    "Removing the missing values, since there are only a few rows containing them compared to the total number of observations:"
   ]
  },
  {
   "cell_type": "code",
   "execution_count": 5,
   "id": "6ae69716",
   "metadata": {
    "execution": {
     "iopub.execute_input": "2023-04-18T09:53:52.075686Z",
     "iopub.status.busy": "2023-04-18T09:53:52.074968Z",
     "iopub.status.idle": "2023-04-18T09:53:52.095342Z",
     "shell.execute_reply": "2023-04-18T09:53:52.094195Z"
    },
    "executionInfo": {
     "elapsed": 476,
     "status": "ok",
     "timestamp": 1681767496766,
     "user": {
      "displayName": "Nikita Mahbub",
      "userId": "07436958521256395082"
     },
     "user_tz": -360
    },
    "id": "gX7wCnPKJjWt",
    "outputId": "deee88e0-ba9f-4669-dd5c-09b49d7e9184",
    "papermill": {
     "duration": 0.038057,
     "end_time": "2023-04-18T09:53:52.098037",
     "exception": false,
     "start_time": "2023-04-18T09:53:52.059980",
     "status": "completed"
    },
    "tags": []
   },
   "outputs": [],
   "source": [
    "data.dropna(inplace=True)"
   ]
  },
  {
   "cell_type": "markdown",
   "id": "0403ffd9",
   "metadata": {
    "id": "ltu0IYOvHmi2",
    "papermill": {
     "duration": 0.012917,
     "end_time": "2023-04-18T09:53:52.124305",
     "exception": false,
     "start_time": "2023-04-18T09:53:52.111388",
     "status": "completed"
    },
    "tags": []
   },
   "source": [
    "As we see there are no columns with any missing values. Checking if there are any duplicate rows:"
   ]
  },
  {
   "cell_type": "code",
   "execution_count": 6,
   "id": "ccfb64df",
   "metadata": {
    "execution": {
     "iopub.execute_input": "2023-04-18T09:53:52.153448Z",
     "iopub.status.busy": "2023-04-18T09:53:52.152775Z",
     "iopub.status.idle": "2023-04-18T09:53:52.258666Z",
     "shell.execute_reply": "2023-04-18T09:53:52.257434Z"
    },
    "executionInfo": {
     "elapsed": 1574,
     "status": "ok",
     "timestamp": 1681767502511,
     "user": {
      "displayName": "Nikita Mahbub",
      "userId": "07436958521256395082"
     },
     "user_tz": -360
    },
    "id": "eS2uqYrnHmi3",
    "outputId": "caf85ac8-8f00-40af-a20c-1b0256178f75",
    "papermill": {
     "duration": 0.123207,
     "end_time": "2023-04-18T09:53:52.261161",
     "exception": false,
     "start_time": "2023-04-18T09:53:52.137954",
     "status": "completed"
    },
    "tags": []
   },
   "outputs": [
    {
     "data": {
      "text/plain": [
       "66"
      ]
     },
     "execution_count": 6,
     "metadata": {},
     "output_type": "execute_result"
    }
   ],
   "source": [
    "data.duplicated().sum()"
   ]
  },
  {
   "cell_type": "markdown",
   "id": "e33cf9f9",
   "metadata": {
    "id": "M5ghijAHHmi3",
    "papermill": {
     "duration": 0.013241,
     "end_time": "2023-04-18T09:53:52.287955",
     "exception": false,
     "start_time": "2023-04-18T09:53:52.274714",
     "status": "completed"
    },
    "tags": []
   },
   "source": [
    "We see that there are 66 duplicate rows. We proceed to remove them, since the number of duplicate rows is very small compared to the number of observations in the dataset:"
   ]
  },
  {
   "cell_type": "code",
   "execution_count": 7,
   "id": "7bd697bd",
   "metadata": {
    "execution": {
     "iopub.execute_input": "2023-04-18T09:53:52.316694Z",
     "iopub.status.busy": "2023-04-18T09:53:52.316256Z",
     "iopub.status.idle": "2023-04-18T09:53:52.415771Z",
     "shell.execute_reply": "2023-04-18T09:53:52.414438Z"
    },
    "executionInfo": {
     "elapsed": 6,
     "status": "ok",
     "timestamp": 1681767504625,
     "user": {
      "displayName": "Nikita Mahbub",
      "userId": "07436958521256395082"
     },
     "user_tz": -360
    },
    "id": "N0Y0cF3kHmi4",
    "outputId": "21127e59-d9ef-4761-a35b-20882276a36e",
    "papermill": {
     "duration": 0.117362,
     "end_time": "2023-04-18T09:53:52.418613",
     "exception": false,
     "start_time": "2023-04-18T09:53:52.301251",
     "status": "completed"
    },
    "tags": []
   },
   "outputs": [],
   "source": [
    "data = data.drop_duplicates()"
   ]
  },
  {
   "cell_type": "markdown",
   "id": "69ccb404",
   "metadata": {
    "id": "ockB8jS6Hmi5",
    "papermill": {
     "duration": 0.017294,
     "end_time": "2023-04-18T09:53:52.449499",
     "exception": false,
     "start_time": "2023-04-18T09:53:52.432205",
     "status": "completed"
    },
    "tags": []
   },
   "source": [
    "Checking the data types of the variables in the dataset:"
   ]
  },
  {
   "cell_type": "code",
   "execution_count": 8,
   "id": "fbe3168d",
   "metadata": {
    "execution": {
     "iopub.execute_input": "2023-04-18T09:53:52.479352Z",
     "iopub.status.busy": "2023-04-18T09:53:52.478067Z",
     "iopub.status.idle": "2023-04-18T09:53:52.488155Z",
     "shell.execute_reply": "2023-04-18T09:53:52.487003Z"
    },
    "executionInfo": {
     "elapsed": 6,
     "status": "ok",
     "timestamp": 1681767505325,
     "user": {
      "displayName": "Nikita Mahbub",
      "userId": "07436958521256395082"
     },
     "user_tz": -360
    },
    "id": "SrPmllF4Hmi8",
    "outputId": "80232916-6f98-4e64-e7bc-e10a31993d86",
    "papermill": {
     "duration": 0.027707,
     "end_time": "2023-04-18T09:53:52.490652",
     "exception": false,
     "start_time": "2023-04-18T09:53:52.462945",
     "status": "completed"
    },
    "tags": []
   },
   "outputs": [
    {
     "data": {
      "text/plain": [
       "float64    79\n",
       "int64       3\n",
       "dtype: int64"
      ]
     },
     "execution_count": 8,
     "metadata": {},
     "output_type": "execute_result"
    }
   ],
   "source": [
    "data.dtypes.value_counts()"
   ]
  },
  {
   "cell_type": "markdown",
   "id": "241114d8",
   "metadata": {
    "id": "H7fRGlDNHmi9",
    "papermill": {
     "duration": 0.013168,
     "end_time": "2023-04-18T09:53:52.517747",
     "exception": false,
     "start_time": "2023-04-18T09:53:52.504579",
     "status": "completed"
    },
    "tags": []
   },
   "source": [
    "There are 79 variables containing float values, and 3 containing integers."
   ]
  },
  {
   "cell_type": "markdown",
   "id": "f7056efa",
   "metadata": {
    "id": "0NE1p2E6Hmi-",
    "papermill": {
     "duration": 0.013107,
     "end_time": "2023-04-18T09:53:52.544380",
     "exception": false,
     "start_time": "2023-04-18T09:53:52.531273",
     "status": "completed"
    },
    "tags": []
   },
   "source": [
    "## EDA and feature engineering"
   ]
  },
  {
   "cell_type": "markdown",
   "id": "e6e4a997",
   "metadata": {
    "id": "0Bd89xL4Hmi-",
    "papermill": {
     "duration": 0.013171,
     "end_time": "2023-04-18T09:53:52.571178",
     "exception": false,
     "start_time": "2023-04-18T09:53:52.558007",
     "status": "completed"
    },
    "tags": []
   },
   "source": [
    "Printing some basic statistical data about the columns of the dataset:"
   ]
  },
  {
   "cell_type": "code",
   "execution_count": 9,
   "id": "97bc5886",
   "metadata": {
    "execution": {
     "iopub.execute_input": "2023-04-18T09:53:52.600560Z",
     "iopub.status.busy": "2023-04-18T09:53:52.600105Z",
     "iopub.status.idle": "2023-04-18T09:53:52.858530Z",
     "shell.execute_reply": "2023-04-18T09:53:52.857257Z"
    },
    "executionInfo": {
     "elapsed": 13,
     "status": "ok",
     "timestamp": 1681767506011,
     "user": {
      "displayName": "Nikita Mahbub",
      "userId": "07436958521256395082"
     },
     "user_tz": -360
    },
    "id": "8jGXH8lOHmi_",
    "outputId": "0bc535eb-c861-4edd-fa71-649597f2a7f1",
    "papermill": {
     "duration": 0.276737,
     "end_time": "2023-04-18T09:53:52.861349",
     "exception": false,
     "start_time": "2023-04-18T09:53:52.584612",
     "status": "completed"
    },
    "tags": []
   },
   "outputs": [
    {
     "data": {
      "text/html": [
       "<div>\n",
       "<style scoped>\n",
       "    .dataframe tbody tr th:only-of-type {\n",
       "        vertical-align: middle;\n",
       "    }\n",
       "\n",
       "    .dataframe tbody tr th {\n",
       "        vertical-align: top;\n",
       "    }\n",
       "\n",
       "    .dataframe thead th {\n",
       "        text-align: right;\n",
       "    }\n",
       "</style>\n",
       "<table border=\"1\" class=\"dataframe\">\n",
       "  <thead>\n",
       "    <tr style=\"text-align: right;\">\n",
       "      <th></th>\n",
       "      <th>number_of_elements</th>\n",
       "      <th>mean_atomic_mass</th>\n",
       "      <th>wtd_mean_atomic_mass</th>\n",
       "      <th>gmean_atomic_mass</th>\n",
       "      <th>wtd_gmean_atomic_mass</th>\n",
       "      <th>entropy_atomic_mass</th>\n",
       "      <th>wtd_entropy_atomic_mass</th>\n",
       "      <th>range_atomic_mass</th>\n",
       "      <th>wtd_range_atomic_mass</th>\n",
       "      <th>std_atomic_mass</th>\n",
       "      <th>...</th>\n",
       "      <th>wtd_mean_Valence</th>\n",
       "      <th>gmean_Valence</th>\n",
       "      <th>wtd_gmean_Valence</th>\n",
       "      <th>entropy_Valence</th>\n",
       "      <th>wtd_entropy_Valence</th>\n",
       "      <th>range_Valence</th>\n",
       "      <th>wtd_range_Valence</th>\n",
       "      <th>std_Valence</th>\n",
       "      <th>wtd_std_Valence</th>\n",
       "      <th>critical_temp</th>\n",
       "    </tr>\n",
       "  </thead>\n",
       "  <tbody>\n",
       "    <tr>\n",
       "      <th>count</th>\n",
       "      <td>21197.000000</td>\n",
       "      <td>21197.000000</td>\n",
       "      <td>21197.000000</td>\n",
       "      <td>21197.000000</td>\n",
       "      <td>21197.000000</td>\n",
       "      <td>21197.000000</td>\n",
       "      <td>21197.000000</td>\n",
       "      <td>21197.000000</td>\n",
       "      <td>21197.000000</td>\n",
       "      <td>21197.000000</td>\n",
       "      <td>...</td>\n",
       "      <td>21197.000000</td>\n",
       "      <td>21197.000000</td>\n",
       "      <td>21197.000000</td>\n",
       "      <td>21197.000000</td>\n",
       "      <td>21197.000000</td>\n",
       "      <td>21197.000000</td>\n",
       "      <td>21197.000000</td>\n",
       "      <td>21197.000000</td>\n",
       "      <td>21197.000000</td>\n",
       "      <td>21197.000000</td>\n",
       "    </tr>\n",
       "    <tr>\n",
       "      <th>mean</th>\n",
       "      <td>4.120300</td>\n",
       "      <td>87.544201</td>\n",
       "      <td>72.945331</td>\n",
       "      <td>71.253164</td>\n",
       "      <td>58.474874</td>\n",
       "      <td>1.166782</td>\n",
       "      <td>1.065103</td>\n",
       "      <td>115.751945</td>\n",
       "      <td>33.204053</td>\n",
       "      <td>44.436401</td>\n",
       "      <td>...</td>\n",
       "      <td>3.148856</td>\n",
       "      <td>3.052542</td>\n",
       "      <td>3.051485</td>\n",
       "      <td>1.297020</td>\n",
       "      <td>1.053977</td>\n",
       "      <td>2.042553</td>\n",
       "      <td>1.480890</td>\n",
       "      <td>0.839692</td>\n",
       "      <td>0.674168</td>\n",
       "      <td>34.494532</td>\n",
       "    </tr>\n",
       "    <tr>\n",
       "      <th>std</th>\n",
       "      <td>1.438282</td>\n",
       "      <td>29.643136</td>\n",
       "      <td>33.460789</td>\n",
       "      <td>30.990774</td>\n",
       "      <td>36.615381</td>\n",
       "      <td>0.364712</td>\n",
       "      <td>0.401225</td>\n",
       "      <td>54.584784</td>\n",
       "      <td>26.966285</td>\n",
       "      <td>20.019732</td>\n",
       "      <td>...</td>\n",
       "      <td>1.189878</td>\n",
       "      <td>1.044637</td>\n",
       "      <td>1.173221</td>\n",
       "      <td>0.392834</td>\n",
       "      <td>0.380121</td>\n",
       "      <td>1.243242</td>\n",
       "      <td>0.977545</td>\n",
       "      <td>0.485002</td>\n",
       "      <td>0.456038</td>\n",
       "      <td>34.276465</td>\n",
       "    </tr>\n",
       "    <tr>\n",
       "      <th>min</th>\n",
       "      <td>1.000000</td>\n",
       "      <td>6.941000</td>\n",
       "      <td>6.423452</td>\n",
       "      <td>5.320573</td>\n",
       "      <td>1.960849</td>\n",
       "      <td>0.000000</td>\n",
       "      <td>0.000000</td>\n",
       "      <td>0.000000</td>\n",
       "      <td>0.000000</td>\n",
       "      <td>0.000000</td>\n",
       "      <td>...</td>\n",
       "      <td>1.000000</td>\n",
       "      <td>1.000000</td>\n",
       "      <td>1.000000</td>\n",
       "      <td>0.000000</td>\n",
       "      <td>0.000000</td>\n",
       "      <td>0.000000</td>\n",
       "      <td>0.000000</td>\n",
       "      <td>0.000000</td>\n",
       "      <td>0.000000</td>\n",
       "      <td>0.000210</td>\n",
       "    </tr>\n",
       "    <tr>\n",
       "      <th>25%</th>\n",
       "      <td>3.000000</td>\n",
       "      <td>72.522475</td>\n",
       "      <td>52.143839</td>\n",
       "      <td>58.041225</td>\n",
       "      <td>35.247208</td>\n",
       "      <td>0.972995</td>\n",
       "      <td>0.781227</td>\n",
       "      <td>78.899680</td>\n",
       "      <td>16.799962</td>\n",
       "      <td>32.890369</td>\n",
       "      <td>...</td>\n",
       "      <td>2.116279</td>\n",
       "      <td>2.267933</td>\n",
       "      <td>2.090896</td>\n",
       "      <td>1.060857</td>\n",
       "      <td>0.778998</td>\n",
       "      <td>1.000000</td>\n",
       "      <td>0.921250</td>\n",
       "      <td>0.451754</td>\n",
       "      <td>0.306892</td>\n",
       "      <td>5.380000</td>\n",
       "    </tr>\n",
       "    <tr>\n",
       "      <th>50%</th>\n",
       "      <td>4.000000</td>\n",
       "      <td>84.922750</td>\n",
       "      <td>60.689236</td>\n",
       "      <td>66.361592</td>\n",
       "      <td>39.873869</td>\n",
       "      <td>1.199541</td>\n",
       "      <td>1.148465</td>\n",
       "      <td>122.906070</td>\n",
       "      <td>26.601500</td>\n",
       "      <td>45.123500</td>\n",
       "      <td>...</td>\n",
       "      <td>2.605455</td>\n",
       "      <td>2.615321</td>\n",
       "      <td>2.428047</td>\n",
       "      <td>1.368922</td>\n",
       "      <td>1.169665</td>\n",
       "      <td>2.000000</td>\n",
       "      <td>1.062857</td>\n",
       "      <td>0.800000</td>\n",
       "      <td>0.500000</td>\n",
       "      <td>20.000000</td>\n",
       "    </tr>\n",
       "    <tr>\n",
       "      <th>75%</th>\n",
       "      <td>5.000000</td>\n",
       "      <td>100.374260</td>\n",
       "      <td>85.982703</td>\n",
       "      <td>78.019689</td>\n",
       "      <td>73.056021</td>\n",
       "      <td>1.444537</td>\n",
       "      <td>1.360388</td>\n",
       "      <td>154.119320</td>\n",
       "      <td>38.336200</td>\n",
       "      <td>59.356406</td>\n",
       "      <td>...</td>\n",
       "      <td>4.007317</td>\n",
       "      <td>3.662842</td>\n",
       "      <td>3.909523</td>\n",
       "      <td>1.589027</td>\n",
       "      <td>1.331531</td>\n",
       "      <td>3.000000</td>\n",
       "      <td>1.910400</td>\n",
       "      <td>1.200000</td>\n",
       "      <td>1.021023</td>\n",
       "      <td>63.000000</td>\n",
       "    </tr>\n",
       "    <tr>\n",
       "      <th>max</th>\n",
       "      <td>9.000000</td>\n",
       "      <td>208.980400</td>\n",
       "      <td>208.980400</td>\n",
       "      <td>208.980400</td>\n",
       "      <td>208.980400</td>\n",
       "      <td>1.983797</td>\n",
       "      <td>1.958203</td>\n",
       "      <td>207.972460</td>\n",
       "      <td>205.589910</td>\n",
       "      <td>101.019700</td>\n",
       "      <td>...</td>\n",
       "      <td>7.000000</td>\n",
       "      <td>7.000000</td>\n",
       "      <td>7.000000</td>\n",
       "      <td>2.141963</td>\n",
       "      <td>1.949739</td>\n",
       "      <td>6.000000</td>\n",
       "      <td>6.992200</td>\n",
       "      <td>3.000000</td>\n",
       "      <td>3.000000</td>\n",
       "      <td>185.000000</td>\n",
       "    </tr>\n",
       "  </tbody>\n",
       "</table>\n",
       "<p>8 rows × 82 columns</p>\n",
       "</div>"
      ],
      "text/plain": [
       "       number_of_elements  mean_atomic_mass  wtd_mean_atomic_mass  \\\n",
       "count        21197.000000      21197.000000          21197.000000   \n",
       "mean             4.120300         87.544201             72.945331   \n",
       "std              1.438282         29.643136             33.460789   \n",
       "min              1.000000          6.941000              6.423452   \n",
       "25%              3.000000         72.522475             52.143839   \n",
       "50%              4.000000         84.922750             60.689236   \n",
       "75%              5.000000        100.374260             85.982703   \n",
       "max              9.000000        208.980400            208.980400   \n",
       "\n",
       "       gmean_atomic_mass  wtd_gmean_atomic_mass  entropy_atomic_mass  \\\n",
       "count       21197.000000           21197.000000         21197.000000   \n",
       "mean           71.253164              58.474874             1.166782   \n",
       "std            30.990774              36.615381             0.364712   \n",
       "min             5.320573               1.960849             0.000000   \n",
       "25%            58.041225              35.247208             0.972995   \n",
       "50%            66.361592              39.873869             1.199541   \n",
       "75%            78.019689              73.056021             1.444537   \n",
       "max           208.980400             208.980400             1.983797   \n",
       "\n",
       "       wtd_entropy_atomic_mass  range_atomic_mass  wtd_range_atomic_mass  \\\n",
       "count             21197.000000       21197.000000           21197.000000   \n",
       "mean                  1.065103         115.751945              33.204053   \n",
       "std                   0.401225          54.584784              26.966285   \n",
       "min                   0.000000           0.000000               0.000000   \n",
       "25%                   0.781227          78.899680              16.799962   \n",
       "50%                   1.148465         122.906070              26.601500   \n",
       "75%                   1.360388         154.119320              38.336200   \n",
       "max                   1.958203         207.972460             205.589910   \n",
       "\n",
       "       std_atomic_mass  ...  wtd_mean_Valence  gmean_Valence  \\\n",
       "count     21197.000000  ...      21197.000000   21197.000000   \n",
       "mean         44.436401  ...          3.148856       3.052542   \n",
       "std          20.019732  ...          1.189878       1.044637   \n",
       "min           0.000000  ...          1.000000       1.000000   \n",
       "25%          32.890369  ...          2.116279       2.267933   \n",
       "50%          45.123500  ...          2.605455       2.615321   \n",
       "75%          59.356406  ...          4.007317       3.662842   \n",
       "max         101.019700  ...          7.000000       7.000000   \n",
       "\n",
       "       wtd_gmean_Valence  entropy_Valence  wtd_entropy_Valence  range_Valence  \\\n",
       "count       21197.000000     21197.000000         21197.000000   21197.000000   \n",
       "mean            3.051485         1.297020             1.053977       2.042553   \n",
       "std             1.173221         0.392834             0.380121       1.243242   \n",
       "min             1.000000         0.000000             0.000000       0.000000   \n",
       "25%             2.090896         1.060857             0.778998       1.000000   \n",
       "50%             2.428047         1.368922             1.169665       2.000000   \n",
       "75%             3.909523         1.589027             1.331531       3.000000   \n",
       "max             7.000000         2.141963             1.949739       6.000000   \n",
       "\n",
       "       wtd_range_Valence   std_Valence  wtd_std_Valence  critical_temp  \n",
       "count       21197.000000  21197.000000     21197.000000   21197.000000  \n",
       "mean            1.480890      0.839692         0.674168      34.494532  \n",
       "std             0.977545      0.485002         0.456038      34.276465  \n",
       "min             0.000000      0.000000         0.000000       0.000210  \n",
       "25%             0.921250      0.451754         0.306892       5.380000  \n",
       "50%             1.062857      0.800000         0.500000      20.000000  \n",
       "75%             1.910400      1.200000         1.021023      63.000000  \n",
       "max             6.992200      3.000000         3.000000     185.000000  \n",
       "\n",
       "[8 rows x 82 columns]"
      ]
     },
     "execution_count": 9,
     "metadata": {},
     "output_type": "execute_result"
    }
   ],
   "source": [
    "data.describe()"
   ]
  },
  {
   "cell_type": "markdown",
   "id": "2553bf21",
   "metadata": {
    "id": "6D6g8ucNHmj2",
    "papermill": {
     "duration": 0.014324,
     "end_time": "2023-04-18T09:53:52.890278",
     "exception": false,
     "start_time": "2023-04-18T09:53:52.875954",
     "status": "completed"
    },
    "tags": []
   },
   "source": [
    "The different columns have quite different means and standard deviations, which means that they are measured on different scales. This should be kept in mind when fitting models that rely on notions of distance -- such as regularized linear models."
   ]
  },
  {
   "cell_type": "markdown",
   "id": "5cf566a3",
   "metadata": {
    "id": "2N_tpdzvHmj3",
    "papermill": {
     "duration": 0.014013,
     "end_time": "2023-04-18T09:53:52.918848",
     "exception": false,
     "start_time": "2023-04-18T09:53:52.904835",
     "status": "completed"
    },
    "tags": []
   },
   "source": [
    "Plotting the correlation heatmap:"
   ]
  },
  {
   "cell_type": "code",
   "execution_count": 10,
   "id": "ac968a55",
   "metadata": {
    "execution": {
     "iopub.execute_input": "2023-04-18T09:53:52.949961Z",
     "iopub.status.busy": "2023-04-18T09:53:52.949551Z",
     "iopub.status.idle": "2023-04-18T09:53:54.235098Z",
     "shell.execute_reply": "2023-04-18T09:53:54.233807Z"
    },
    "executionInfo": {
     "elapsed": 1283,
     "status": "ok",
     "timestamp": 1681767507783,
     "user": {
      "displayName": "Nikita Mahbub",
      "userId": "07436958521256395082"
     },
     "user_tz": -360
    },
    "id": "gcJHnVqDHmj3",
    "outputId": "a3ee1829-8f2b-452f-8d2f-c106cc24ec65",
    "papermill": {
     "duration": 1.305989,
     "end_time": "2023-04-18T09:53:54.239723",
     "exception": false,
     "start_time": "2023-04-18T09:53:52.933734",
     "status": "completed"
    },
    "tags": []
   },
   "outputs": [
    {
     "data": {
      "image/png": "[encoded data removed]",
      "text/plain": [
       "<Figure size 640x480 with 2 Axes>"
      ]
     },
     "metadata": {},
     "output_type": "display_data"
    }
   ],
   "source": [
    "corr_matrix = data.corr()\n",
    "sns.heatmap(corr_matrix, cmap='YlOrBr')\n",
    "plt.title('Correlation heatmap for the entire dataset')\n",
    "plt.show()"
   ]
  },
  {
   "cell_type": "markdown",
   "id": "2f23e10c",
   "metadata": {
    "id": "Pry8JA-0Hmj4",
    "papermill": {
     "duration": 0.018207,
     "end_time": "2023-04-18T09:53:54.276176",
     "exception": false,
     "start_time": "2023-04-18T09:53:54.257969",
     "status": "completed"
    },
    "tags": []
   },
   "source": [
    "Some of the blocks off the diagonal are highly correlated, showing that some multicollinearity is present. This is an issue for linear models, but not for tree based models, so it can be expected that tree based models will have superior performance. Seperating the data into features and targets:"
   ]
  },
  {
   "cell_type": "code",
   "execution_count": 11,
   "id": "4a1c94a8",
   "metadata": {
    "execution": {
     "iopub.execute_input": "2023-04-18T09:53:54.313673Z",
     "iopub.status.busy": "2023-04-18T09:53:54.313229Z",
     "iopub.status.idle": "2023-04-18T09:53:54.330338Z",
     "shell.execute_reply": "2023-04-18T09:53:54.329384Z"
    },
    "executionInfo": {
     "elapsed": 38,
     "status": "ok",
     "timestamp": 1681767507788,
     "user": {
      "displayName": "Nikita Mahbub",
      "userId": "07436958521256395082"
     },
     "user_tz": -360
    },
    "id": "2B9QjV_LHmj5",
    "outputId": "b24c03c4-6b79-43ab-9e52-0441974114f0",
    "papermill": {
     "duration": 0.039326,
     "end_time": "2023-04-18T09:53:54.332927",
     "exception": false,
     "start_time": "2023-04-18T09:53:54.293601",
     "status": "completed"
    },
    "tags": []
   },
   "outputs": [],
   "source": [
    "X = data.drop('critical_temp', axis=1).values\n",
    "y = data['critical_temp'].values"
   ]
  },
  {
   "cell_type": "markdown",
   "id": "f3966fdc",
   "metadata": {
    "id": "XhzqTEY5Hmj5",
    "papermill": {
     "duration": 0.017361,
     "end_time": "2023-04-18T09:53:54.367704",
     "exception": false,
     "start_time": "2023-04-18T09:53:54.350343",
     "status": "completed"
    },
    "tags": []
   },
   "source": [
    "Scaling the features to make sure that they all have the same mean and standard deviation:"
   ]
  },
  {
   "cell_type": "code",
   "execution_count": 12,
   "id": "a3a5827f",
   "metadata": {
    "execution": {
     "iopub.execute_input": "2023-04-18T09:53:54.405180Z",
     "iopub.status.busy": "2023-04-18T09:53:54.404520Z",
     "iopub.status.idle": "2023-04-18T09:53:54.435065Z",
     "shell.execute_reply": "2023-04-18T09:53:54.433790Z"
    },
    "executionInfo": {
     "elapsed": 34,
     "status": "ok",
     "timestamp": 1681767507791,
     "user": {
      "displayName": "Nikita Mahbub",
      "userId": "07436958521256395082"
     },
     "user_tz": -360
    },
    "id": "2vOjYDATHmj6",
    "outputId": "731149eb-2103-44e9-fe30-9fa5d6e8b89f",
    "papermill": {
     "duration": 0.052755,
     "end_time": "2023-04-18T09:53:54.437871",
     "exception": false,
     "start_time": "2023-04-18T09:53:54.385116",
     "status": "completed"
    },
    "tags": []
   },
   "outputs": [],
   "source": [
    "from sklearn.preprocessing import StandardScaler\n",
    "\n",
    "scaler = StandardScaler()\n",
    "X = scaler.fit_transform(X)"
   ]
  },
  {
   "cell_type": "markdown",
   "id": "ac3edc44",
   "metadata": {
    "id": "thoCnmmYHmj6",
    "papermill": {
     "duration": 0.017291,
     "end_time": "2023-04-18T09:53:54.473501",
     "exception": false,
     "start_time": "2023-04-18T09:53:54.456210",
     "status": "completed"
    },
    "tags": []
   },
   "source": [
    "The data is now ready for building models."
   ]
  },
  {
   "cell_type": "markdown",
   "id": "aaf83718",
   "metadata": {
    "id": "cnVLvecSHmj7",
    "papermill": {
     "duration": 0.017376,
     "end_time": "2023-04-18T09:53:54.508280",
     "exception": false,
     "start_time": "2023-04-18T09:53:54.490904",
     "status": "completed"
    },
    "tags": []
   },
   "source": [
    "## Model building and evaluation"
   ]
  },
  {
   "cell_type": "markdown",
   "id": "7eb6cdc3",
   "metadata": {
    "id": "5KSXVJANHmj7",
    "papermill": {
     "duration": 0.016894,
     "end_time": "2023-04-18T09:53:54.542522",
     "exception": false,
     "start_time": "2023-04-18T09:53:54.525628",
     "status": "completed"
    },
    "tags": []
   },
   "source": [
    "Initial exploration with some of the models considered below showed that model performance on the last few folds of the data (without shuffling) was consistently and significantly better than on the first few folds. Because of this, we shuffle the data before splitting it into folds. Setting up a CV objects:"
   ]
  },
  {
   "cell_type": "code",
   "execution_count": 13,
   "id": "96bf7ad7",
   "metadata": {
    "execution": {
     "iopub.execute_input": "2023-04-18T09:53:54.579602Z",
     "iopub.status.busy": "2023-04-18T09:53:54.578865Z",
     "iopub.status.idle": "2023-04-18T09:53:54.584917Z",
     "shell.execute_reply": "2023-04-18T09:53:54.583922Z"
    },
    "executionInfo": {
     "elapsed": 13,
     "status": "ok",
     "timestamp": 1681767508545,
     "user": {
      "displayName": "Nikita Mahbub",
      "userId": "07436958521256395082"
     },
     "user_tz": -360
    },
    "id": "jRUwJzZSHmj-",
    "outputId": "beb813e9-dc69-4400-d56b-13ffe8af5928",
    "papermill": {
     "duration": 0.02762,
     "end_time": "2023-04-18T09:53:54.587363",
     "exception": false,
     "start_time": "2023-04-18T09:53:54.559743",
     "status": "completed"
    },
    "tags": []
   },
   "outputs": [],
   "source": [
    "cv_3 = KFold(3, shuffle=True, random_state=42)\n",
    "cv_5 = KFold(5, shuffle=True, random_state=42)\n",
    "cv_10 = KFold(10, shuffle=True, random_state=42)"
   ]
  },
  {
   "cell_type": "markdown",
   "id": "a2075b98",
   "metadata": {
    "id": "3LF-pialHmj_",
    "papermill": {
     "duration": 0.016978,
     "end_time": "2023-04-18T09:53:54.622093",
     "exception": false,
     "start_time": "2023-04-18T09:53:54.605115",
     "status": "completed"
    },
    "tags": []
   },
   "source": [
    "Defining function to get cross validated root mean squared error:"
   ]
  },
  {
   "cell_type": "code",
   "execution_count": 14,
   "id": "c332949a",
   "metadata": {
    "execution": {
     "iopub.execute_input": "2023-04-18T09:53:54.659690Z",
     "iopub.status.busy": "2023-04-18T09:53:54.658874Z",
     "iopub.status.idle": "2023-04-18T09:53:54.665165Z",
     "shell.execute_reply": "2023-04-18T09:53:54.664265Z"
    },
    "executionInfo": {
     "elapsed": 10,
     "status": "ok",
     "timestamp": 1681767508546,
     "user": {
      "displayName": "Nikita Mahbub",
      "userId": "07436958521256395082"
     },
     "user_tz": -360
    },
    "id": "g7vc1VW8HmkA",
    "outputId": "6b475d73-2e6c-4a6a-e53f-6773c99ae920",
    "papermill": {
     "duration": 0.028311,
     "end_time": "2023-04-18T09:53:54.667772",
     "exception": false,
     "start_time": "2023-04-18T09:53:54.639461",
     "status": "completed"
    },
    "tags": []
   },
   "outputs": [],
   "source": [
    "def get_model_and_scores(model, model_name):\n",
    "    score = np.sqrt(np.mean(np.abs(cross_val_score(model, X, y, scoring='neg_mean_squared_error', cv=cv_10, n_jobs=-1, verbose=1))))\n",
    "    return [model_name, score]"
   ]
  },
  {
   "cell_type": "markdown",
   "id": "0658b649",
   "metadata": {
    "id": "h7bHqCrYHmkB",
    "papermill": {
     "duration": 0.017461,
     "end_time": "2023-04-18T09:53:54.703080",
     "exception": false,
     "start_time": "2023-04-18T09:53:54.685619",
     "status": "completed"
    },
    "tags": []
   },
   "source": [
    "Creating a dataframe with no entries to store model results:"
   ]
  },
  {
   "cell_type": "code",
   "execution_count": 15,
   "id": "97aeae8a",
   "metadata": {
    "execution": {
     "iopub.execute_input": "2023-04-18T09:53:54.740879Z",
     "iopub.status.busy": "2023-04-18T09:53:54.740152Z",
     "iopub.status.idle": "2023-04-18T09:53:54.747423Z",
     "shell.execute_reply": "2023-04-18T09:53:54.746584Z"
    },
    "executionInfo": {
     "elapsed": 5,
     "status": "ok",
     "timestamp": 1681767509747,
     "user": {
      "displayName": "Nikita Mahbub",
      "userId": "07436958521256395082"
     },
     "user_tz": -360
    },
    "id": "JpmXyIDVHmkB",
    "outputId": "02dd6683-a17a-4175-9777-438d52fcd4d3",
    "papermill": {
     "duration": 0.029087,
     "end_time": "2023-04-18T09:53:54.749758",
     "exception": false,
     "start_time": "2023-04-18T09:53:54.720671",
     "status": "completed"
    },
    "tags": []
   },
   "outputs": [],
   "source": [
    "models = pd.DataFrame(columns=['Model', 'Cross-validated root mean squared error'])"
   ]
  },
  {
   "cell_type": "markdown",
   "id": "ac4f032d",
   "metadata": {
    "id": "vEVdtJW-HmkC",
    "papermill": {
     "duration": 0.017348,
     "end_time": "2023-04-18T09:53:54.785564",
     "exception": false,
     "start_time": "2023-04-18T09:53:54.768216",
     "status": "completed"
    },
    "tags": []
   },
   "source": [
    "Defining a function to append model and score to models dataframe:"
   ]
  },
  {
   "cell_type": "code",
   "execution_count": 16,
   "id": "e70edd54",
   "metadata": {
    "execution": {
     "iopub.execute_input": "2023-04-18T09:53:54.822257Z",
     "iopub.status.busy": "2023-04-18T09:53:54.821821Z",
     "iopub.status.idle": "2023-04-18T09:53:54.826887Z",
     "shell.execute_reply": "2023-04-18T09:53:54.825783Z"
    },
    "executionInfo": {
     "elapsed": 8,
     "status": "ok",
     "timestamp": 1681767510380,
     "user": {
      "displayName": "Nikita Mahbub",
      "userId": "07436958521256395082"
     },
     "user_tz": -360
    },
    "id": "6NgZKtouHmkC",
    "outputId": "6a68719f-e539-4c37-ff1f-bb30ef1b95b9",
    "papermill": {
     "duration": 0.02634,
     "end_time": "2023-04-18T09:53:54.829288",
     "exception": false,
     "start_time": "2023-04-18T09:53:54.802948",
     "status": "completed"
    },
    "tags": []
   },
   "outputs": [],
   "source": [
    "def append_model_and_scores(model_and_scores):\n",
    "    models.loc[len(models)] = model_and_scores\n",
    "    return models.drop_duplicates()"
   ]
  },
  {
   "cell_type": "markdown",
   "id": "8a184351",
   "metadata": {
    "id": "ClFAfSssHmkD",
    "papermill": {
     "duration": 0.017043,
     "end_time": "2023-04-18T09:53:54.863874",
     "exception": false,
     "start_time": "2023-04-18T09:53:54.846831",
     "status": "completed"
    },
    "tags": []
   },
   "source": [
    "Defining function to get grid/random search results in a dataframe:"
   ]
  },
  {
   "cell_type": "code",
   "execution_count": 17,
   "id": "c22643bd",
   "metadata": {
    "execution": {
     "iopub.execute_input": "2023-04-18T09:53:54.902650Z",
     "iopub.status.busy": "2023-04-18T09:53:54.901799Z",
     "iopub.status.idle": "2023-04-18T09:53:54.906935Z",
     "shell.execute_reply": "2023-04-18T09:53:54.906021Z"
    },
    "executionInfo": {
     "elapsed": 10,
     "status": "ok",
     "timestamp": 1681767510874,
     "user": {
      "displayName": "Nikita Mahbub",
      "userId": "07436958521256395082"
     },
     "user_tz": -360
    },
    "id": "ZYZFaOdlHmkD",
    "outputId": "29fdf7a7-c654-43a4-8c3e-aec84c7283d2",
    "papermill": {
     "duration": 0.027625,
     "end_time": "2023-04-18T09:53:54.909379",
     "exception": false,
     "start_time": "2023-04-18T09:53:54.881754",
     "status": "completed"
    },
    "tags": []
   },
   "outputs": [],
   "source": [
    "def get_cv_results(grid_search_object, n=5):\n",
    "    cv_results = pd.DataFrame(grid_search_object.cv_results_).sort_values('rank_test_score').head(n)\n",
    "    return cv_results"
   ]
  },
  {
   "cell_type": "markdown",
   "id": "a7b8f36f",
   "metadata": {
    "id": "UnLjab8CHmkE",
    "papermill": {
     "duration": 0.017302,
     "end_time": "2023-04-18T09:53:54.944427",
     "exception": false,
     "start_time": "2023-04-18T09:53:54.927125",
     "status": "completed"
    },
    "tags": []
   },
   "source": [
    "#### Baseline model: l2-regularized spline regression"
   ]
  },
  {
   "cell_type": "markdown",
   "id": "72a0aff2",
   "metadata": {
    "id": "mqWg3FMSHmkE",
    "papermill": {
     "duration": 0.017663,
     "end_time": "2023-04-18T09:53:54.979647",
     "exception": false,
     "start_time": "2023-04-18T09:53:54.961984",
     "status": "completed"
    },
    "tags": []
   },
   "source": [
    "*As our baseline model, we use an l2-regularized spline regression. A spline regression can be thought of as a way of adding non-linearity to the linear regression model. It involves fitting separate low-degree polynomials over different regions of the explanatory variables. The points marking the boundaries of the different regions where separate polynomials are fitted are called knots. The spline regression fits the polynomials in such a way as to make the overall estimated regression function continuous and smooth at the knots. L2 regularization was added to the spline regression model to shrink the coefficients of the variables with low explanatory power towards zero (but not to exactly zero, as in l1 regularization), thus reducing the chances of overfitting.*\n",
    "\n",
    "*All model hyperparameters were chosen using grid searches. A grid search requires us to specify a range of hyperparameter values to choose from. Then, models are estimated using each combination of hyperparameter values and are evaluated using cross-validation. The optimal hyperparameters are the ones that give the best model as measured by the ROC-AUC score, in our case.*\n",
    "\n",
    "*Cross-validation is a technique that allows us to estimate the performance of the model on unseen data. The dataset is split into $n$ folds. In each iteration, the model is estimated using data from $n-1$ folds and is evaluated on the remaining fold. This procedure is repeated $n$ times, so each fold is used once as a validation set, and an average evaluation metric is computed. Three-fold stratified cross-validation was used for all the models in this section. Stratified cross-validation means that the proportion of the categories of the target variable are the same in each fold.*"
   ]
  },
  {
   "cell_type": "markdown",
   "id": "9d7fb353",
   "metadata": {
    "id": "YJ4qZsqKHmkF",
    "papermill": {
     "duration": 0.017663,
     "end_time": "2023-04-18T09:53:55.015084",
     "exception": false,
     "start_time": "2023-04-18T09:53:54.997421",
     "status": "completed"
    },
    "tags": []
   },
   "source": [
    "Using a grid search to find the optimal number of knots and the regularization hyperparameter:"
   ]
  },
  {
   "cell_type": "code",
   "execution_count": 18,
   "id": "760b836c",
   "metadata": {
    "execution": {
     "iopub.execute_input": "2023-04-18T09:53:55.052779Z",
     "iopub.status.busy": "2023-04-18T09:53:55.051986Z",
     "iopub.status.idle": "2023-04-18T09:56:56.386080Z",
     "shell.execute_reply": "2023-04-18T09:56:56.384861Z"
    },
    "executionInfo": {
     "elapsed": 230543,
     "status": "ok",
     "timestamp": 1681767745212,
     "user": {
      "displayName": "Nikita Mahbub",
      "userId": "07436958521256395082"
     },
     "user_tz": -360
    },
    "id": "suHWcjRCHmkF",
    "outputId": "a51a6323-9158-4483-eda8-a3d75a25e447",
    "papermill": {
     "duration": 181.373706,
     "end_time": "2023-04-18T09:56:56.406492",
     "exception": false,
     "start_time": "2023-04-18T09:53:55.032786",
     "status": "completed"
    },
    "tags": []
   },
   "outputs": [
    {
     "data": {
      "text/html": [
       "<div>\n",
       "<style scoped>\n",
       "    .dataframe tbody tr th:only-of-type {\n",
       "        vertical-align: middle;\n",
       "    }\n",
       "\n",
       "    .dataframe tbody tr th {\n",
       "        vertical-align: top;\n",
       "    }\n",
       "\n",
       "    .dataframe thead th {\n",
       "        text-align: right;\n",
       "    }\n",
       "</style>\n",
       "<table border=\"1\" class=\"dataframe\">\n",
       "  <thead>\n",
       "    <tr style=\"text-align: right;\">\n",
       "      <th></th>\n",
       "      <th>mean_fit_time</th>\n",
       "      <th>std_fit_time</th>\n",
       "      <th>mean_score_time</th>\n",
       "      <th>std_score_time</th>\n",
       "      <th>param_ridge__alpha</th>\n",
       "      <th>param_spline__n_knots</th>\n",
       "      <th>params</th>\n",
       "      <th>split0_test_score</th>\n",
       "      <th>split1_test_score</th>\n",
       "      <th>split2_test_score</th>\n",
       "      <th>split3_test_score</th>\n",
       "      <th>split4_test_score</th>\n",
       "      <th>mean_test_score</th>\n",
       "      <th>std_test_score</th>\n",
       "      <th>rank_test_score</th>\n",
       "    </tr>\n",
       "  </thead>\n",
       "  <tbody>\n",
       "    <tr>\n",
       "      <th>5</th>\n",
       "      <td>4.948384</td>\n",
       "      <td>0.042739</td>\n",
       "      <td>0.300373</td>\n",
       "      <td>0.042027</td>\n",
       "      <td>1.444444</td>\n",
       "      <td>20</td>\n",
       "      <td>{'ridge__alpha': 1.4444444444444446, 'spline__...</td>\n",
       "      <td>-180.742530</td>\n",
       "      <td>-182.456735</td>\n",
       "      <td>-191.004677</td>\n",
       "      <td>-189.650302</td>\n",
       "      <td>-183.600072</td>\n",
       "      <td>-185.490863</td>\n",
       "      <td>4.075065</td>\n",
       "      <td>1</td>\n",
       "    </tr>\n",
       "    <tr>\n",
       "      <th>3</th>\n",
       "      <td>5.132362</td>\n",
       "      <td>0.173306</td>\n",
       "      <td>0.298694</td>\n",
       "      <td>0.014037</td>\n",
       "      <td>0.222222</td>\n",
       "      <td>20</td>\n",
       "      <td>{'ridge__alpha': 0.22222222222222232, 'spline_...</td>\n",
       "      <td>-183.097211</td>\n",
       "      <td>-183.492979</td>\n",
       "      <td>-189.713127</td>\n",
       "      <td>-189.876019</td>\n",
       "      <td>-182.664866</td>\n",
       "      <td>-185.768840</td>\n",
       "      <td>3.297821</td>\n",
       "      <td>2</td>\n",
       "    </tr>\n",
       "    <tr>\n",
       "      <th>7</th>\n",
       "      <td>4.901975</td>\n",
       "      <td>0.071200</td>\n",
       "      <td>0.295274</td>\n",
       "      <td>0.015263</td>\n",
       "      <td>2.666667</td>\n",
       "      <td>20</td>\n",
       "      <td>{'ridge__alpha': 2.666666666666667, 'spline__n...</td>\n",
       "      <td>-181.012215</td>\n",
       "      <td>-182.919129</td>\n",
       "      <td>-192.016765</td>\n",
       "      <td>-189.924667</td>\n",
       "      <td>-184.561992</td>\n",
       "      <td>-186.086954</td>\n",
       "      <td>4.195338</td>\n",
       "      <td>3</td>\n",
       "    </tr>\n",
       "    <tr>\n",
       "      <th>9</th>\n",
       "      <td>4.875473</td>\n",
       "      <td>0.134617</td>\n",
       "      <td>0.297080</td>\n",
       "      <td>0.003911</td>\n",
       "      <td>3.888889</td>\n",
       "      <td>20</td>\n",
       "      <td>{'ridge__alpha': 3.8888888888888893, 'spline__...</td>\n",
       "      <td>-181.453511</td>\n",
       "      <td>-183.371328</td>\n",
       "      <td>-192.815158</td>\n",
       "      <td>-190.257995</td>\n",
       "      <td>-185.350732</td>\n",
       "      <td>-186.649745</td>\n",
       "      <td>4.253659</td>\n",
       "      <td>4</td>\n",
       "    </tr>\n",
       "    <tr>\n",
       "      <th>11</th>\n",
       "      <td>4.870861</td>\n",
       "      <td>0.117670</td>\n",
       "      <td>0.301575</td>\n",
       "      <td>0.011351</td>\n",
       "      <td>5.111111</td>\n",
       "      <td>20</td>\n",
       "      <td>{'ridge__alpha': 5.111111111111112, 'spline__n...</td>\n",
       "      <td>-181.914370</td>\n",
       "      <td>-183.795714</td>\n",
       "      <td>-193.496533</td>\n",
       "      <td>-190.600538</td>\n",
       "      <td>-186.035860</td>\n",
       "      <td>-187.168603</td>\n",
       "      <td>4.291557</td>\n",
       "      <td>5</td>\n",
       "    </tr>\n",
       "    <tr>\n",
       "      <th>13</th>\n",
       "      <td>4.783016</td>\n",
       "      <td>0.030863</td>\n",
       "      <td>0.300922</td>\n",
       "      <td>0.016120</td>\n",
       "      <td>6.333333</td>\n",
       "      <td>20</td>\n",
       "      <td>{'ridge__alpha': 6.333333333333334, 'spline__n...</td>\n",
       "      <td>-182.364770</td>\n",
       "      <td>-184.197955</td>\n",
       "      <td>-194.104169</td>\n",
       "      <td>-190.942704</td>\n",
       "      <td>-186.652976</td>\n",
       "      <td>-187.652515</td>\n",
       "      <td>4.320706</td>\n",
       "      <td>6</td>\n",
       "    </tr>\n",
       "    <tr>\n",
       "      <th>15</th>\n",
       "      <td>4.809989</td>\n",
       "      <td>0.022565</td>\n",
       "      <td>0.293926</td>\n",
       "      <td>0.008668</td>\n",
       "      <td>7.555556</td>\n",
       "      <td>20</td>\n",
       "      <td>{'ridge__alpha': 7.555555555555557, 'spline__n...</td>\n",
       "      <td>-182.797829</td>\n",
       "      <td>-184.582879</td>\n",
       "      <td>-194.660697</td>\n",
       "      <td>-191.281964</td>\n",
       "      <td>-187.221560</td>\n",
       "      <td>-188.108986</td>\n",
       "      <td>4.345620</td>\n",
       "      <td>7</td>\n",
       "    </tr>\n",
       "    <tr>\n",
       "      <th>17</th>\n",
       "      <td>4.999266</td>\n",
       "      <td>0.152033</td>\n",
       "      <td>0.293928</td>\n",
       "      <td>0.011510</td>\n",
       "      <td>8.777778</td>\n",
       "      <td>20</td>\n",
       "      <td>{'ridge__alpha': 8.777777777777779, 'spline__n...</td>\n",
       "      <td>-183.212779</td>\n",
       "      <td>-184.953764</td>\n",
       "      <td>-195.179334</td>\n",
       "      <td>-191.617555</td>\n",
       "      <td>-187.753306</td>\n",
       "      <td>-188.543348</td>\n",
       "      <td>4.368325</td>\n",
       "      <td>8</td>\n",
       "    </tr>\n",
       "    <tr>\n",
       "      <th>19</th>\n",
       "      <td>4.430883</td>\n",
       "      <td>0.539816</td>\n",
       "      <td>0.226205</td>\n",
       "      <td>0.058557</td>\n",
       "      <td>10.0</td>\n",
       "      <td>20</td>\n",
       "      <td>{'ridge__alpha': 10.0, 'spline__n_knots': 20}</td>\n",
       "      <td>-183.610644</td>\n",
       "      <td>-185.312861</td>\n",
       "      <td>-195.668455</td>\n",
       "      <td>-191.949251</td>\n",
       "      <td>-188.255789</td>\n",
       "      <td>-188.959400</td>\n",
       "      <td>4.389809</td>\n",
       "      <td>9</td>\n",
       "    </tr>\n",
       "    <tr>\n",
       "      <th>2</th>\n",
       "      <td>3.672419</td>\n",
       "      <td>0.270917</td>\n",
       "      <td>0.278591</td>\n",
       "      <td>0.033629</td>\n",
       "      <td>0.222222</td>\n",
       "      <td>15</td>\n",
       "      <td>{'ridge__alpha': 0.22222222222222232, 'spline_...</td>\n",
       "      <td>-189.413194</td>\n",
       "      <td>-190.601298</td>\n",
       "      <td>-196.933316</td>\n",
       "      <td>-196.984319</td>\n",
       "      <td>-193.385335</td>\n",
       "      <td>-193.463492</td>\n",
       "      <td>3.131743</td>\n",
       "      <td>10</td>\n",
       "    </tr>\n",
       "  </tbody>\n",
       "</table>\n",
       "</div>"
      ],
      "text/plain": [
       "    mean_fit_time  std_fit_time  mean_score_time  std_score_time  \\\n",
       "5        4.948384      0.042739         0.300373        0.042027   \n",
       "3        5.132362      0.173306         0.298694        0.014037   \n",
       "7        4.901975      0.071200         0.295274        0.015263   \n",
       "9        4.875473      0.134617         0.297080        0.003911   \n",
       "11       4.870861      0.117670         0.301575        0.011351   \n",
       "13       4.783016      0.030863         0.300922        0.016120   \n",
       "15       4.809989      0.022565         0.293926        0.008668   \n",
       "17       4.999266      0.152033         0.293928        0.011510   \n",
       "19       4.430883      0.539816         0.226205        0.058557   \n",
       "2        3.672419      0.270917         0.278591        0.033629   \n",
       "\n",
       "   param_ridge__alpha param_spline__n_knots  \\\n",
       "5            1.444444                    20   \n",
       "3            0.222222                    20   \n",
       "7            2.666667                    20   \n",
       "9            3.888889                    20   \n",
       "11           5.111111                    20   \n",
       "13           6.333333                    20   \n",
       "15           7.555556                    20   \n",
       "17           8.777778                    20   \n",
       "19               10.0                    20   \n",
       "2            0.222222                    15   \n",
       "\n",
       "                                               params  split0_test_score  \\\n",
       "5   {'ridge__alpha': 1.4444444444444446, 'spline__...        -180.742530   \n",
       "3   {'ridge__alpha': 0.22222222222222232, 'spline_...        -183.097211   \n",
       "7   {'ridge__alpha': 2.666666666666667, 'spline__n...        -181.012215   \n",
       "9   {'ridge__alpha': 3.8888888888888893, 'spline__...        -181.453511   \n",
       "11  {'ridge__alpha': 5.111111111111112, 'spline__n...        -181.914370   \n",
       "13  {'ridge__alpha': 6.333333333333334, 'spline__n...        -182.364770   \n",
       "15  {'ridge__alpha': 7.555555555555557, 'spline__n...        -182.797829   \n",
       "17  {'ridge__alpha': 8.777777777777779, 'spline__n...        -183.212779   \n",
       "19      {'ridge__alpha': 10.0, 'spline__n_knots': 20}        -183.610644   \n",
       "2   {'ridge__alpha': 0.22222222222222232, 'spline_...        -189.413194   \n",
       "\n",
       "    split1_test_score  split2_test_score  split3_test_score  \\\n",
       "5         -182.456735        -191.004677        -189.650302   \n",
       "3         -183.492979        -189.713127        -189.876019   \n",
       "7         -182.919129        -192.016765        -189.924667   \n",
       "9         -183.371328        -192.815158        -190.257995   \n",
       "11        -183.795714        -193.496533        -190.600538   \n",
       "13        -184.197955        -194.104169        -190.942704   \n",
       "15        -184.582879        -194.660697        -191.281964   \n",
       "17        -184.953764        -195.179334        -191.617555   \n",
       "19        -185.312861        -195.668455        -191.949251   \n",
       "2         -190.601298        -196.933316        -196.984319   \n",
       "\n",
       "    split4_test_score  mean_test_score  std_test_score  rank_test_score  \n",
       "5         -183.600072      -185.490863        4.075065                1  \n",
       "3         -182.664866      -185.768840        3.297821                2  \n",
       "7         -184.561992      -186.086954        4.195338                3  \n",
       "9         -185.350732      -186.649745        4.253659                4  \n",
       "11        -186.035860      -187.168603        4.291557                5  \n",
       "13        -186.652976      -187.652515        4.320706                6  \n",
       "15        -187.221560      -188.108986        4.345620                7  \n",
       "17        -187.753306      -188.543348        4.368325                8  \n",
       "19        -188.255789      -188.959400        4.389809                9  \n",
       "2         -193.385335      -193.463492        3.131743               10  "
      ]
     },
     "execution_count": 18,
     "metadata": {},
     "output_type": "execute_result"
    }
   ],
   "source": [
    "spline = SplineTransformer(degree=3)\n",
    "ridge = Ridge(random_state=42)\n",
    "spline_pipeline = Pipeline(steps=[('spline', spline), ('ridge', ridge)])\n",
    "\n",
    "params= {'spline__n_knots': [15, 20],\n",
    "            'ridge__alpha': np.linspace(-1, 10, 10)}\n",
    "\n",
    "spline_cv = GridSearchCV(spline_pipeline, param_grid=params, scoring='neg_mean_squared_error', n_jobs=-1, cv=cv_5)\n",
    "spline_cv.fit(X, y)\n",
    "get_cv_results(spline_cv, 10)"
   ]
  },
  {
   "cell_type": "markdown",
   "id": "43c490cd",
   "metadata": {
    "id": "1ii9RppwHmkG",
    "papermill": {
     "duration": 0.018048,
     "end_time": "2023-04-18T09:56:56.442862",
     "exception": false,
     "start_time": "2023-04-18T09:56:56.424814",
     "status": "completed"
    },
    "tags": []
   },
   "source": [
    "Extracting the best model:"
   ]
  },
  {
   "cell_type": "code",
   "execution_count": 19,
   "id": "4b7971c0",
   "metadata": {
    "execution": {
     "iopub.execute_input": "2023-04-18T09:56:56.482638Z",
     "iopub.status.busy": "2023-04-18T09:56:56.481259Z",
     "iopub.status.idle": "2023-04-18T09:57:11.391285Z",
     "shell.execute_reply": "2023-04-18T09:57:11.390026Z"
    },
    "executionInfo": {
     "elapsed": 32846,
     "status": "ok",
     "timestamp": 1681767817042,
     "user": {
      "displayName": "Nikita Mahbub",
      "userId": "07436958521256395082"
     },
     "user_tz": -360
    },
    "id": "ErMCApRzHmkG",
    "outputId": "84e0c113-996f-44a9-94e3-dcb474bcd888",
    "papermill": {
     "duration": 14.932692,
     "end_time": "2023-04-18T09:57:11.393791",
     "exception": false,
     "start_time": "2023-04-18T09:56:56.461099",
     "status": "completed"
    },
    "tags": []
   },
   "outputs": [
    {
     "name": "stderr",
     "output_type": "stream",
     "text": [
      "[Parallel(n_jobs=-1)]: Using backend LokyBackend with 4 concurrent workers.\n",
      "[Parallel(n_jobs=-1)]: Done  10 out of  10 | elapsed:   14.8s finished\n"
     ]
    },
    {
     "data": {
      "text/html": [
       "<div>\n",
       "<style scoped>\n",
       "    .dataframe tbody tr th:only-of-type {\n",
       "        vertical-align: middle;\n",
       "    }\n",
       "\n",
       "    .dataframe tbody tr th {\n",
       "        vertical-align: top;\n",
       "    }\n",
       "\n",
       "    .dataframe thead th {\n",
       "        text-align: right;\n",
       "    }\n",
       "</style>\n",
       "<table border=\"1\" class=\"dataframe\">\n",
       "  <thead>\n",
       "    <tr style=\"text-align: right;\">\n",
       "      <th></th>\n",
       "      <th>Model</th>\n",
       "      <th>Cross-validated root mean squared error</th>\n",
       "    </tr>\n",
       "  </thead>\n",
       "  <tbody>\n",
       "    <tr>\n",
       "      <th>0</th>\n",
       "      <td>Spline regression</td>\n",
       "      <td>13.587833</td>\n",
       "    </tr>\n",
       "  </tbody>\n",
       "</table>\n",
       "</div>"
      ],
      "text/plain": [
       "               Model  Cross-validated root mean squared error\n",
       "0  Spline regression                                13.587833"
      ]
     },
     "execution_count": 19,
     "metadata": {},
     "output_type": "execute_result"
    }
   ],
   "source": [
    "spline_final = spline_cv.best_estimator_\n",
    "\n",
    "spline_model_and_score = get_model_and_scores(spline_final, 'Spline regression')\n",
    "append_model_and_scores(spline_model_and_score)"
   ]
  },
  {
   "cell_type": "markdown",
   "id": "d4bde532",
   "metadata": {
    "id": "pMuAbO8_HmkH",
    "papermill": {
     "duration": 0.018228,
     "end_time": "2023-04-18T09:57:11.430432",
     "exception": false,
     "start_time": "2023-04-18T09:57:11.412204",
     "status": "completed"
    },
    "tags": []
   },
   "source": [
    "We see that the spline regression has a root mean squared error of around 13.59 Kelvins."
   ]
  },
  {
   "cell_type": "markdown",
   "id": "c1bee275",
   "metadata": {
    "id": "V2c-bMyFHmkH",
    "papermill": {
     "duration": 0.018026,
     "end_time": "2023-04-18T09:57:11.466939",
     "exception": false,
     "start_time": "2023-04-18T09:57:11.448913",
     "status": "completed"
    },
    "tags": []
   },
   "source": [
    "#### Random forest"
   ]
  },
  {
   "cell_type": "markdown",
   "id": "794c05ff",
   "metadata": {
    "id": "paGhSq69HmkI",
    "papermill": {
     "duration": 0.018103,
     "end_time": "2023-04-18T09:57:11.503450",
     "exception": false,
     "start_time": "2023-04-18T09:57:11.485347",
     "status": "completed"
    },
    "tags": []
   },
   "source": [
    "*As our next model, we considered a random forest, which is a tree-based ensemble method.*\n",
    "\n",
    "*A decision tree is a classification/regression method that works by recursively splitting the feature space into two parts until some stopping criterion, such as the depth of the tree, is met. This produces a tree-like representation of the feature space. Predictions are made by following the decision tree from the top of the tree to the bottom subset, where the prediction is made as the mean value of the observations in the bottom subset in case of regression, and as the most frequent class in case of classification.*\n",
    "\n",
    "*The random forest model works by generating $n$ bootstrap samples from the original dataset with a random subset of features taken in each bootstrap sample. Bootstrap samples are formed by randomly selecting $m$ observations from the original dataset with replacement, where $m$ is the number of observations in the original training set. Finally, the most frequent outcome predicted by the individual decision trees is taken as the final prediction made by the random forest model.*\n",
    "\n",
    "*The number of trees in the random forest was fixed at 750, and the maximum fraction of features used to train each tree and the maximum depth of each tree were determined using a grid search with 5-fold cross-validation. In the chosen random forest model, each tree has a maximum depth of 20 nodes and is trained on 50% of the features, chosen at random.*\n",
    "\n",
    "*The random forest model performs better than the spline regression, with a cross-validated RMSE of around 9.06 Kelvins – beating the score achieved by the author’s model in the original paper.*"
   ]
  },
  {
   "cell_type": "markdown",
   "id": "c87fd553",
   "metadata": {
    "id": "cymGd_sEHmkJ",
    "papermill": {
     "duration": 0.018304,
     "end_time": "2023-04-18T09:57:11.540050",
     "exception": false,
     "start_time": "2023-04-18T09:57:11.521746",
     "status": "completed"
    },
    "tags": []
   },
   "source": [
    "Fixing the number of base estimators at 750, and performing a grid search to find the optimal values for the maximum number of features considered by each estimator and the depth of each tree:"
   ]
  },
  {
   "cell_type": "code",
   "execution_count": 20,
   "id": "6cb488f1",
   "metadata": {
    "execution": {
     "iopub.execute_input": "2023-04-18T09:57:11.579555Z",
     "iopub.status.busy": "2023-04-18T09:57:11.578833Z",
     "iopub.status.idle": "2023-04-18T11:01:02.590093Z",
     "shell.execute_reply": "2023-04-18T11:01:02.588615Z"
    },
    "executionInfo": {
     "elapsed": 7148142,
     "status": "ok",
     "timestamp": 1681775046206,
     "user": {
      "displayName": "Nikita Mahbub",
      "userId": "07436958521256395082"
     },
     "user_tz": -360
    },
    "id": "zwe0VsSXHmkK",
    "outputId": "5973eb25-9146-4656-bf6d-3c8c77138470",
    "papermill": {
     "duration": 3831.053933,
     "end_time": "2023-04-18T11:01:02.612591",
     "exception": false,
     "start_time": "2023-04-18T09:57:11.558658",
     "status": "completed"
    },
    "tags": []
   },
   "outputs": [
    {
     "data": {
      "text/html": [
       "<div>\n",
       "<style scoped>\n",
       "    .dataframe tbody tr th:only-of-type {\n",
       "        vertical-align: middle;\n",
       "    }\n",
       "\n",
       "    .dataframe tbody tr th {\n",
       "        vertical-align: top;\n",
       "    }\n",
       "\n",
       "    .dataframe thead th {\n",
       "        text-align: right;\n",
       "    }\n",
       "</style>\n",
       "<table border=\"1\" class=\"dataframe\">\n",
       "  <thead>\n",
       "    <tr style=\"text-align: right;\">\n",
       "      <th></th>\n",
       "      <th>mean_fit_time</th>\n",
       "      <th>std_fit_time</th>\n",
       "      <th>mean_score_time</th>\n",
       "      <th>std_score_time</th>\n",
       "      <th>param_max_depth</th>\n",
       "      <th>param_max_features</th>\n",
       "      <th>params</th>\n",
       "      <th>split0_test_score</th>\n",
       "      <th>split1_test_score</th>\n",
       "      <th>split2_test_score</th>\n",
       "      <th>split3_test_score</th>\n",
       "      <th>split4_test_score</th>\n",
       "      <th>mean_test_score</th>\n",
       "      <th>std_test_score</th>\n",
       "      <th>rank_test_score</th>\n",
       "    </tr>\n",
       "  </thead>\n",
       "  <tbody>\n",
       "    <tr>\n",
       "      <th>5</th>\n",
       "      <td>474.335458</td>\n",
       "      <td>1.502328</td>\n",
       "      <td>0.999452</td>\n",
       "      <td>0.030930</td>\n",
       "      <td>20</td>\n",
       "      <td>0.5</td>\n",
       "      <td>{'max_depth': 20, 'max_features': 0.5}</td>\n",
       "      <td>-85.521132</td>\n",
       "      <td>-78.815468</td>\n",
       "      <td>-88.721747</td>\n",
       "      <td>-86.233234</td>\n",
       "      <td>-84.124373</td>\n",
       "      <td>-84.683191</td>\n",
       "      <td>3.291114</td>\n",
       "      <td>1</td>\n",
       "    </tr>\n",
       "    <tr>\n",
       "      <th>4</th>\n",
       "      <td>293.187004</td>\n",
       "      <td>0.509680</td>\n",
       "      <td>0.971133</td>\n",
       "      <td>0.010464</td>\n",
       "      <td>20</td>\n",
       "      <td>0.3</td>\n",
       "      <td>{'max_depth': 20, 'max_features': 0.3}</td>\n",
       "      <td>-86.005751</td>\n",
       "      <td>-78.645998</td>\n",
       "      <td>-88.984001</td>\n",
       "      <td>-85.701437</td>\n",
       "      <td>-84.390676</td>\n",
       "      <td>-84.745572</td>\n",
       "      <td>3.399905</td>\n",
       "      <td>2</td>\n",
       "    </tr>\n",
       "    <tr>\n",
       "      <th>7</th>\n",
       "      <td>306.926915</td>\n",
       "      <td>0.694825</td>\n",
       "      <td>1.072547</td>\n",
       "      <td>0.027748</td>\n",
       "      <td>50</td>\n",
       "      <td>0.3</td>\n",
       "      <td>{'max_depth': 50, 'max_features': 0.3}</td>\n",
       "      <td>-85.917251</td>\n",
       "      <td>-79.268284</td>\n",
       "      <td>-89.251919</td>\n",
       "      <td>-85.563620</td>\n",
       "      <td>-84.168271</td>\n",
       "      <td>-84.833869</td>\n",
       "      <td>3.244817</td>\n",
       "      <td>3</td>\n",
       "    </tr>\n",
       "    <tr>\n",
       "      <th>3</th>\n",
       "      <td>200.655201</td>\n",
       "      <td>0.272188</td>\n",
       "      <td>1.105276</td>\n",
       "      <td>0.138539</td>\n",
       "      <td>20</td>\n",
       "      <td>0.2</td>\n",
       "      <td>{'max_depth': 20, 'max_features': 0.2}</td>\n",
       "      <td>-86.360911</td>\n",
       "      <td>-79.405286</td>\n",
       "      <td>-88.771836</td>\n",
       "      <td>-85.468944</td>\n",
       "      <td>-84.430458</td>\n",
       "      <td>-84.887487</td>\n",
       "      <td>3.093886</td>\n",
       "      <td>4</td>\n",
       "    </tr>\n",
       "    <tr>\n",
       "      <th>6</th>\n",
       "      <td>211.594119</td>\n",
       "      <td>0.730311</td>\n",
       "      <td>1.112501</td>\n",
       "      <td>0.084031</td>\n",
       "      <td>50</td>\n",
       "      <td>0.2</td>\n",
       "      <td>{'max_depth': 50, 'max_features': 0.2}</td>\n",
       "      <td>-86.494966</td>\n",
       "      <td>-79.407867</td>\n",
       "      <td>-89.050130</td>\n",
       "      <td>-85.176173</td>\n",
       "      <td>-84.316912</td>\n",
       "      <td>-84.889209</td>\n",
       "      <td>3.173222</td>\n",
       "      <td>5</td>\n",
       "    </tr>\n",
       "  </tbody>\n",
       "</table>\n",
       "</div>"
      ],
      "text/plain": [
       "   mean_fit_time  std_fit_time  mean_score_time  std_score_time  \\\n",
       "5     474.335458      1.502328         0.999452        0.030930   \n",
       "4     293.187004      0.509680         0.971133        0.010464   \n",
       "7     306.926915      0.694825         1.072547        0.027748   \n",
       "3     200.655201      0.272188         1.105276        0.138539   \n",
       "6     211.594119      0.730311         1.112501        0.084031   \n",
       "\n",
       "  param_max_depth param_max_features                                  params  \\\n",
       "5              20                0.5  {'max_depth': 20, 'max_features': 0.5}   \n",
       "4              20                0.3  {'max_depth': 20, 'max_features': 0.3}   \n",
       "7              50                0.3  {'max_depth': 50, 'max_features': 0.3}   \n",
       "3              20                0.2  {'max_depth': 20, 'max_features': 0.2}   \n",
       "6              50                0.2  {'max_depth': 50, 'max_features': 0.2}   \n",
       "\n",
       "   split0_test_score  split1_test_score  split2_test_score  split3_test_score  \\\n",
       "5         -85.521132         -78.815468         -88.721747         -86.233234   \n",
       "4         -86.005751         -78.645998         -88.984001         -85.701437   \n",
       "7         -85.917251         -79.268284         -89.251919         -85.563620   \n",
       "3         -86.360911         -79.405286         -88.771836         -85.468944   \n",
       "6         -86.494966         -79.407867         -89.050130         -85.176173   \n",
       "\n",
       "   split4_test_score  mean_test_score  std_test_score  rank_test_score  \n",
       "5         -84.124373       -84.683191        3.291114                1  \n",
       "4         -84.390676       -84.745572        3.399905                2  \n",
       "7         -84.168271       -84.833869        3.244817                3  \n",
       "3         -84.430458       -84.887487        3.093886                4  \n",
       "6         -84.316912       -84.889209        3.173222                5  "
      ]
     },
     "execution_count": 20,
     "metadata": {},
     "output_type": "execute_result"
    }
   ],
   "source": [
    "rf = RandomForestRegressor(n_estimators=750, random_state=42)\n",
    "\n",
    "params = {'max_features': [0.20, 0.30, 0.50],\n",
    "            'max_depth': [10, 20, 50]}\n",
    "rf_cv = GridSearchCV(rf, param_grid=params, cv=cv_5, scoring='neg_mean_squared_error', n_jobs=-1)\n",
    "rf_cv.fit(X, y)\n",
    "get_cv_results(rf_cv)"
   ]
  },
  {
   "cell_type": "markdown",
   "id": "16a299f5",
   "metadata": {
    "id": "f-_39WskHmkK",
    "papermill": {
     "duration": 0.019167,
     "end_time": "2023-04-18T11:01:02.651683",
     "exception": false,
     "start_time": "2023-04-18T11:01:02.632516",
     "status": "completed"
    },
    "tags": []
   },
   "source": [
    "Extracting the best model:"
   ]
  },
  {
   "cell_type": "code",
   "execution_count": 21,
   "id": "b02ee9d3",
   "metadata": {
    "execution": {
     "iopub.execute_input": "2023-04-18T11:01:02.693429Z",
     "iopub.status.busy": "2023-04-18T11:01:02.693000Z",
     "iopub.status.idle": "2023-04-18T11:24:54.912818Z",
     "shell.execute_reply": "2023-04-18T11:24:54.911489Z"
    },
    "executionInfo": {
     "elapsed": 1195739,
     "status": "ok",
     "timestamp": 1681776241939,
     "user": {
      "displayName": "Nikita Mahbub",
      "userId": "07436958521256395082"
     },
     "user_tz": -360
    },
    "id": "86NQxCxOHmkL",
    "outputId": "c0dd788c-bd01-4254-8b81-a3b997523e1b",
    "papermill": {
     "duration": 1432.262358,
     "end_time": "2023-04-18T11:24:54.933529",
     "exception": false,
     "start_time": "2023-04-18T11:01:02.671171",
     "status": "completed"
    },
    "tags": []
   },
   "outputs": [
    {
     "name": "stderr",
     "output_type": "stream",
     "text": [
      "[Parallel(n_jobs=-1)]: Using backend LokyBackend with 4 concurrent workers.\n",
      "[Parallel(n_jobs=-1)]: Done  10 out of  10 | elapsed: 23.9min finished\n"
     ]
    },
    {
     "data": {
      "text/html": [
       "<div>\n",
       "<style scoped>\n",
       "    .dataframe tbody tr th:only-of-type {\n",
       "        vertical-align: middle;\n",
       "    }\n",
       "\n",
       "    .dataframe tbody tr th {\n",
       "        vertical-align: top;\n",
       "    }\n",
       "\n",
       "    .dataframe thead th {\n",
       "        text-align: right;\n",
       "    }\n",
       "</style>\n",
       "<table border=\"1\" class=\"dataframe\">\n",
       "  <thead>\n",
       "    <tr style=\"text-align: right;\">\n",
       "      <th></th>\n",
       "      <th>Model</th>\n",
       "      <th>Cross-validated root mean squared error</th>\n",
       "    </tr>\n",
       "  </thead>\n",
       "  <tbody>\n",
       "    <tr>\n",
       "      <th>0</th>\n",
       "      <td>Spline regression</td>\n",
       "      <td>13.587833</td>\n",
       "    </tr>\n",
       "    <tr>\n",
       "      <th>1</th>\n",
       "      <td>Random forest</td>\n",
       "      <td>9.055525</td>\n",
       "    </tr>\n",
       "  </tbody>\n",
       "</table>\n",
       "</div>"
      ],
      "text/plain": [
       "               Model  Cross-validated root mean squared error\n",
       "0  Spline regression                                13.587833\n",
       "1      Random forest                                 9.055525"
      ]
     },
     "execution_count": 21,
     "metadata": {},
     "output_type": "execute_result"
    }
   ],
   "source": [
    "rf_final = rf_cv.best_estimator_\n",
    "\n",
    "rf_model_and_scores = get_model_and_scores(rf_final, 'Random forest')\n",
    "append_model_and_scores(rf_model_and_scores)"
   ]
  },
  {
   "cell_type": "markdown",
   "id": "cb044d2c",
   "metadata": {
    "id": "RPY8sh28HmkL",
    "papermill": {
     "duration": 0.019229,
     "end_time": "2023-04-18T11:24:54.971986",
     "exception": false,
     "start_time": "2023-04-18T11:24:54.952757",
     "status": "completed"
    },
    "tags": []
   },
   "source": [
    "We see that the random forest model performs better than the spline regression, with a root mean squared error of around 9.06 Kelvins -- beating the score achieved by the author's model in the original paper. Let's see if we can further improve on this score."
   ]
  },
  {
   "cell_type": "markdown",
   "id": "b56f4cb7",
   "metadata": {
    "id": "Uw0yVn6SHmkM",
    "papermill": {
     "duration": 0.019558,
     "end_time": "2023-04-18T11:24:55.011133",
     "exception": false,
     "start_time": "2023-04-18T11:24:54.991575",
     "status": "completed"
    },
    "tags": []
   },
   "source": [
    "#### Gradient boosted regression trees using XGBoost"
   ]
  },
  {
   "cell_type": "markdown",
   "id": "8b128665",
   "metadata": {
    "id": "nvHvdNgvHmkN",
    "papermill": {
     "duration": 0.019001,
     "end_time": "2023-04-18T11:24:55.049468",
     "exception": false,
     "start_time": "2023-04-18T11:24:55.030467",
     "status": "completed"
    },
    "tags": []
   },
   "source": [
    "*Gradient boosting is another tree-based ensemble method. Unlike the random forest model, which trains separate trees on several bootstrap samples in parallel, gradient boosting trains trees in sequence, where each tree seeks to find patterns in the part of the variation in the data that is not explained by the previous trees. The predictions produced by the gradient boosted regression tree model can be thought of as being a weighted linear combination of the predictions of a regression tree trained on the original dataset, a regression tree fit using the residuals from the first tree as features, a regression tree fit using the residuals from the second tree as features, and so on.*\n",
    "\n",
    "*To implement the gradient boosted regression tree model, we used the XGBoost algorithm. This is an efficient gradient boosting algorithm with support for regularization to reduce overfitting. The optimal hyperparameters for this model were chosen using a randomized search, which is similar to the grid search previously described, with the only difference being that a random subset of combinations of hyperparameter values is considered instead of the entire set of all combinations of the provided hyperparameter values. Although the randomized search approach does not guarantee that the optimal combination of hyperparameter values among all possible combinations will be found, its use here was necessitated by the fact that the XGBoost algorithm has a lot of hyperparameters to be tuned which produces a large number of combinations of hyperparameter values, making a thorough grid search infeasible due to time constraints.*\n",
    "\n",
    "*The chosen XGBoost model has 750 base estimators, each of which is trained on separate random subsamples containing 75% of the observations and 30% of the features. Each tree is grown to a maximum depth of 20, and the chosen regularization hyperparameters indicate that regularization is relatively strong in the model. The XGBoost model slightly outperforms the random forest model, with a cross-validated RMSE of around 8.89.*"
   ]
  },
  {
   "cell_type": "markdown",
   "id": "f5a18976",
   "metadata": {
    "id": "lUmA1xvSHmkN",
    "papermill": {
     "duration": 0.01886,
     "end_time": "2023-04-18T11:24:55.087556",
     "exception": false,
     "start_time": "2023-04-18T11:24:55.068696",
     "status": "completed"
    },
    "tags": []
   },
   "source": [
    "Conducting the random search:"
   ]
  },
  {
   "cell_type": "code",
   "execution_count": 22,
   "id": "41e4c0db",
   "metadata": {
    "execution": {
     "iopub.execute_input": "2023-04-18T11:24:55.128654Z",
     "iopub.status.busy": "2023-04-18T11:24:55.128197Z",
     "iopub.status.idle": "2023-04-18T12:00:09.423106Z",
     "shell.execute_reply": "2023-04-18T12:00:09.421524Z"
    },
    "executionInfo": {
     "elapsed": 3984011,
     "status": "ok",
     "timestamp": 1681780225939,
     "user": {
      "displayName": "Nikita Mahbub",
      "userId": "07436958521256395082"
     },
     "user_tz": -360
    },
    "id": "jccQmlVdHmkO",
    "outputId": "8e66de4b-2d3c-4d31-a57e-0e02db36af95",
    "papermill": {
     "duration": 2114.339301,
     "end_time": "2023-04-18T12:00:09.446137",
     "exception": false,
     "start_time": "2023-04-18T11:24:55.106836",
     "status": "completed"
    },
    "tags": []
   },
   "outputs": [
    {
     "name": "stdout",
     "output_type": "stream",
     "text": [
      "Fitting 3 folds for each of 20 candidates, totalling 60 fits\n"
     ]
    },
    {
     "data": {
      "text/html": [
       "<div>\n",
       "<style scoped>\n",
       "    .dataframe tbody tr th:only-of-type {\n",
       "        vertical-align: middle;\n",
       "    }\n",
       "\n",
       "    .dataframe tbody tr th {\n",
       "        vertical-align: top;\n",
       "    }\n",
       "\n",
       "    .dataframe thead th {\n",
       "        text-align: right;\n",
       "    }\n",
       "</style>\n",
       "<table border=\"1\" class=\"dataframe\">\n",
       "  <thead>\n",
       "    <tr style=\"text-align: right;\">\n",
       "      <th></th>\n",
       "      <th>mean_fit_time</th>\n",
       "      <th>std_fit_time</th>\n",
       "      <th>mean_score_time</th>\n",
       "      <th>std_score_time</th>\n",
       "      <th>param_subsample</th>\n",
       "      <th>param_n_estimators</th>\n",
       "      <th>param_min_child_weight</th>\n",
       "      <th>param_max_depth</th>\n",
       "      <th>param_learning_rate</th>\n",
       "      <th>param_lambda</th>\n",
       "      <th>param_gamma</th>\n",
       "      <th>param_colsample_bytree</th>\n",
       "      <th>param_alpha</th>\n",
       "      <th>params</th>\n",
       "      <th>split0_test_score</th>\n",
       "      <th>split1_test_score</th>\n",
       "      <th>split2_test_score</th>\n",
       "      <th>mean_test_score</th>\n",
       "      <th>std_test_score</th>\n",
       "      <th>rank_test_score</th>\n",
       "    </tr>\n",
       "  </thead>\n",
       "  <tbody>\n",
       "    <tr>\n",
       "      <th>1</th>\n",
       "      <td>194.101555</td>\n",
       "      <td>0.179622</td>\n",
       "      <td>1.338775</td>\n",
       "      <td>0.035710</td>\n",
       "      <td>0.75</td>\n",
       "      <td>750</td>\n",
       "      <td>10</td>\n",
       "      <td>20</td>\n",
       "      <td>0.01</td>\n",
       "      <td>0</td>\n",
       "      <td>2</td>\n",
       "      <td>0.3</td>\n",
       "      <td>0</td>\n",
       "      <td>{'subsample': 0.75, 'n_estimators': 750, 'min_...</td>\n",
       "      <td>-85.484450</td>\n",
       "      <td>-87.675854</td>\n",
       "      <td>-86.532289</td>\n",
       "      <td>-86.564197</td>\n",
       "      <td>0.894921</td>\n",
       "      <td>1</td>\n",
       "    </tr>\n",
       "    <tr>\n",
       "      <th>5</th>\n",
       "      <td>189.617067</td>\n",
       "      <td>0.576075</td>\n",
       "      <td>1.204493</td>\n",
       "      <td>0.016754</td>\n",
       "      <td>0.75</td>\n",
       "      <td>750</td>\n",
       "      <td>10</td>\n",
       "      <td>20</td>\n",
       "      <td>0.01</td>\n",
       "      <td>1</td>\n",
       "      <td>10</td>\n",
       "      <td>0.3</td>\n",
       "      <td>1</td>\n",
       "      <td>{'subsample': 0.75, 'n_estimators': 750, 'min_...</td>\n",
       "      <td>-85.550497</td>\n",
       "      <td>-88.035937</td>\n",
       "      <td>-86.410403</td>\n",
       "      <td>-86.665612</td>\n",
       "      <td>1.030599</td>\n",
       "      <td>2</td>\n",
       "    </tr>\n",
       "    <tr>\n",
       "      <th>8</th>\n",
       "      <td>141.178249</td>\n",
       "      <td>0.685064</td>\n",
       "      <td>1.324107</td>\n",
       "      <td>0.112825</td>\n",
       "      <td>0.75</td>\n",
       "      <td>750</td>\n",
       "      <td>10</td>\n",
       "      <td>20</td>\n",
       "      <td>0.01</td>\n",
       "      <td>0</td>\n",
       "      <td>10</td>\n",
       "      <td>0.2</td>\n",
       "      <td>1</td>\n",
       "      <td>{'subsample': 0.75, 'n_estimators': 750, 'min_...</td>\n",
       "      <td>-85.776521</td>\n",
       "      <td>-88.101900</td>\n",
       "      <td>-86.922702</td>\n",
       "      <td>-86.933708</td>\n",
       "      <td>0.949364</td>\n",
       "      <td>3</td>\n",
       "    </tr>\n",
       "    <tr>\n",
       "      <th>7</th>\n",
       "      <td>149.064186</td>\n",
       "      <td>0.304067</td>\n",
       "      <td>1.469500</td>\n",
       "      <td>0.003949</td>\n",
       "      <td>0.75</td>\n",
       "      <td>750</td>\n",
       "      <td>5</td>\n",
       "      <td>20</td>\n",
       "      <td>0.01</td>\n",
       "      <td>1</td>\n",
       "      <td>2</td>\n",
       "      <td>0.2</td>\n",
       "      <td>1</td>\n",
       "      <td>{'subsample': 0.75, 'n_estimators': 750, 'min_...</td>\n",
       "      <td>-85.805028</td>\n",
       "      <td>-87.995290</td>\n",
       "      <td>-87.287611</td>\n",
       "      <td>-87.029310</td>\n",
       "      <td>0.912634</td>\n",
       "      <td>4</td>\n",
       "    </tr>\n",
       "    <tr>\n",
       "      <th>14</th>\n",
       "      <td>141.295051</td>\n",
       "      <td>0.460265</td>\n",
       "      <td>1.239465</td>\n",
       "      <td>0.022684</td>\n",
       "      <td>0.75</td>\n",
       "      <td>750</td>\n",
       "      <td>10</td>\n",
       "      <td>20</td>\n",
       "      <td>0.02</td>\n",
       "      <td>1</td>\n",
       "      <td>5</td>\n",
       "      <td>0.2</td>\n",
       "      <td>0</td>\n",
       "      <td>{'subsample': 0.75, 'n_estimators': 750, 'min_...</td>\n",
       "      <td>-86.114741</td>\n",
       "      <td>-88.563542</td>\n",
       "      <td>-86.829551</td>\n",
       "      <td>-87.169278</td>\n",
       "      <td>1.028175</td>\n",
       "      <td>5</td>\n",
       "    </tr>\n",
       "    <tr>\n",
       "      <th>2</th>\n",
       "      <td>79.745013</td>\n",
       "      <td>0.399377</td>\n",
       "      <td>0.544072</td>\n",
       "      <td>0.016876</td>\n",
       "      <td>0.75</td>\n",
       "      <td>750</td>\n",
       "      <td>5</td>\n",
       "      <td>10</td>\n",
       "      <td>0.02</td>\n",
       "      <td>1</td>\n",
       "      <td>5</td>\n",
       "      <td>0.2</td>\n",
       "      <td>1</td>\n",
       "      <td>{'subsample': 0.75, 'n_estimators': 750, 'min_...</td>\n",
       "      <td>-86.020617</td>\n",
       "      <td>-88.724417</td>\n",
       "      <td>-87.589481</td>\n",
       "      <td>-87.444839</td>\n",
       "      <td>1.108550</td>\n",
       "      <td>6</td>\n",
       "    </tr>\n",
       "    <tr>\n",
       "      <th>11</th>\n",
       "      <td>146.175147</td>\n",
       "      <td>0.278426</td>\n",
       "      <td>1.326921</td>\n",
       "      <td>0.021877</td>\n",
       "      <td>0.75</td>\n",
       "      <td>750</td>\n",
       "      <td>5</td>\n",
       "      <td>20</td>\n",
       "      <td>0.02</td>\n",
       "      <td>10</td>\n",
       "      <td>10</td>\n",
       "      <td>0.2</td>\n",
       "      <td>0</td>\n",
       "      <td>{'subsample': 0.75, 'n_estimators': 750, 'min_...</td>\n",
       "      <td>-86.542791</td>\n",
       "      <td>-88.598933</td>\n",
       "      <td>-87.597463</td>\n",
       "      <td>-87.579729</td>\n",
       "      <td>0.839510</td>\n",
       "      <td>7</td>\n",
       "    </tr>\n",
       "    <tr>\n",
       "      <th>13</th>\n",
       "      <td>146.004701</td>\n",
       "      <td>0.221790</td>\n",
       "      <td>1.317670</td>\n",
       "      <td>0.008528</td>\n",
       "      <td>0.75</td>\n",
       "      <td>750</td>\n",
       "      <td>5</td>\n",
       "      <td>20</td>\n",
       "      <td>0.02</td>\n",
       "      <td>10</td>\n",
       "      <td>5</td>\n",
       "      <td>0.2</td>\n",
       "      <td>2</td>\n",
       "      <td>{'subsample': 0.75, 'n_estimators': 750, 'min_...</td>\n",
       "      <td>-86.337962</td>\n",
       "      <td>-88.920004</td>\n",
       "      <td>-87.640956</td>\n",
       "      <td>-87.632974</td>\n",
       "      <td>1.054129</td>\n",
       "      <td>8</td>\n",
       "    </tr>\n",
       "    <tr>\n",
       "      <th>12</th>\n",
       "      <td>143.376412</td>\n",
       "      <td>0.751798</td>\n",
       "      <td>1.228180</td>\n",
       "      <td>0.017522</td>\n",
       "      <td>0.75</td>\n",
       "      <td>750</td>\n",
       "      <td>10</td>\n",
       "      <td>20</td>\n",
       "      <td>0.02</td>\n",
       "      <td>0</td>\n",
       "      <td>10</td>\n",
       "      <td>0.2</td>\n",
       "      <td>1</td>\n",
       "      <td>{'subsample': 0.75, 'n_estimators': 750, 'min_...</td>\n",
       "      <td>-86.027229</td>\n",
       "      <td>-89.349632</td>\n",
       "      <td>-87.576638</td>\n",
       "      <td>-87.651166</td>\n",
       "      <td>1.357389</td>\n",
       "      <td>9</td>\n",
       "    </tr>\n",
       "    <tr>\n",
       "      <th>16</th>\n",
       "      <td>201.794227</td>\n",
       "      <td>0.647669</td>\n",
       "      <td>1.352432</td>\n",
       "      <td>0.011368</td>\n",
       "      <td>0.75</td>\n",
       "      <td>750</td>\n",
       "      <td>5</td>\n",
       "      <td>20</td>\n",
       "      <td>0.02</td>\n",
       "      <td>10</td>\n",
       "      <td>2</td>\n",
       "      <td>0.3</td>\n",
       "      <td>2</td>\n",
       "      <td>{'subsample': 0.75, 'n_estimators': 750, 'min_...</td>\n",
       "      <td>-86.763139</td>\n",
       "      <td>-89.087754</td>\n",
       "      <td>-87.412798</td>\n",
       "      <td>-87.754563</td>\n",
       "      <td>0.979306</td>\n",
       "      <td>10</td>\n",
       "    </tr>\n",
       "  </tbody>\n",
       "</table>\n",
       "</div>"
      ],
      "text/plain": [
       "    mean_fit_time  std_fit_time  mean_score_time  std_score_time  \\\n",
       "1      194.101555      0.179622         1.338775        0.035710   \n",
       "5      189.617067      0.576075         1.204493        0.016754   \n",
       "8      141.178249      0.685064         1.324107        0.112825   \n",
       "7      149.064186      0.304067         1.469500        0.003949   \n",
       "14     141.295051      0.460265         1.239465        0.022684   \n",
       "2       79.745013      0.399377         0.544072        0.016876   \n",
       "11     146.175147      0.278426         1.326921        0.021877   \n",
       "13     146.004701      0.221790         1.317670        0.008528   \n",
       "12     143.376412      0.751798         1.228180        0.017522   \n",
       "16     201.794227      0.647669         1.352432        0.011368   \n",
       "\n",
       "   param_subsample param_n_estimators param_min_child_weight param_max_depth  \\\n",
       "1             0.75                750                     10              20   \n",
       "5             0.75                750                     10              20   \n",
       "8             0.75                750                     10              20   \n",
       "7             0.75                750                      5              20   \n",
       "14            0.75                750                     10              20   \n",
       "2             0.75                750                      5              10   \n",
       "11            0.75                750                      5              20   \n",
       "13            0.75                750                      5              20   \n",
       "12            0.75                750                     10              20   \n",
       "16            0.75                750                      5              20   \n",
       "\n",
       "   param_learning_rate param_lambda param_gamma param_colsample_bytree  \\\n",
       "1                 0.01            0           2                    0.3   \n",
       "5                 0.01            1          10                    0.3   \n",
       "8                 0.01            0          10                    0.2   \n",
       "7                 0.01            1           2                    0.2   \n",
       "14                0.02            1           5                    0.2   \n",
       "2                 0.02            1           5                    0.2   \n",
       "11                0.02           10          10                    0.2   \n",
       "13                0.02           10           5                    0.2   \n",
       "12                0.02            0          10                    0.2   \n",
       "16                0.02           10           2                    0.3   \n",
       "\n",
       "   param_alpha                                             params  \\\n",
       "1            0  {'subsample': 0.75, 'n_estimators': 750, 'min_...   \n",
       "5            1  {'subsample': 0.75, 'n_estimators': 750, 'min_...   \n",
       "8            1  {'subsample': 0.75, 'n_estimators': 750, 'min_...   \n",
       "7            1  {'subsample': 0.75, 'n_estimators': 750, 'min_...   \n",
       "14           0  {'subsample': 0.75, 'n_estimators': 750, 'min_...   \n",
       "2            1  {'subsample': 0.75, 'n_estimators': 750, 'min_...   \n",
       "11           0  {'subsample': 0.75, 'n_estimators': 750, 'min_...   \n",
       "13           2  {'subsample': 0.75, 'n_estimators': 750, 'min_...   \n",
       "12           1  {'subsample': 0.75, 'n_estimators': 750, 'min_...   \n",
       "16           2  {'subsample': 0.75, 'n_estimators': 750, 'min_...   \n",
       "\n",
       "    split0_test_score  split1_test_score  split2_test_score  mean_test_score  \\\n",
       "1          -85.484450         -87.675854         -86.532289       -86.564197   \n",
       "5          -85.550497         -88.035937         -86.410403       -86.665612   \n",
       "8          -85.776521         -88.101900         -86.922702       -86.933708   \n",
       "7          -85.805028         -87.995290         -87.287611       -87.029310   \n",
       "14         -86.114741         -88.563542         -86.829551       -87.169278   \n",
       "2          -86.020617         -88.724417         -87.589481       -87.444839   \n",
       "11         -86.542791         -88.598933         -87.597463       -87.579729   \n",
       "13         -86.337962         -88.920004         -87.640956       -87.632974   \n",
       "12         -86.027229         -89.349632         -87.576638       -87.651166   \n",
       "16         -86.763139         -89.087754         -87.412798       -87.754563   \n",
       "\n",
       "    std_test_score  rank_test_score  \n",
       "1         0.894921                1  \n",
       "5         1.030599                2  \n",
       "8         0.949364                3  \n",
       "7         0.912634                4  \n",
       "14        1.028175                5  \n",
       "2         1.108550                6  \n",
       "11        0.839510                7  \n",
       "13        1.054129                8  \n",
       "12        1.357389                9  \n",
       "16        0.979306               10  "
      ]
     },
     "execution_count": 22,
     "metadata": {},
     "output_type": "execute_result"
    }
   ],
   "source": [
    "xgb = XGBRegressor(random_state=42)\n",
    "params = {'n_estimators': [750],\n",
    "            'max_depth': [10, 20],\n",
    "            'min_child_weight': [5, 10],\n",
    "            'learning_rate': [0.01, 0.02],\n",
    "            'subsample': [0.75],\n",
    "            'colsample_bytree': [0.2, 0.3],\n",
    "            'alpha': [0, 1, 2],\n",
    "            'lambda': [0, 1, 10],\n",
    "            'gamma': [2, 5, 10]\n",
    "            }\n",
    "xgb_cv = RandomizedSearchCV(xgb, param_distributions=params, scoring='neg_mean_squared_error', n_iter=20, cv=cv_3, random_state=42, verbose=1, n_jobs=-1)\n",
    "xgb_cv.fit(X, y)\n",
    "\n",
    "get_cv_results(xgb_cv, 10)"
   ]
  },
  {
   "cell_type": "markdown",
   "id": "95716281",
   "metadata": {
    "id": "TErLUb1LHmkP",
    "papermill": {
     "duration": 0.019837,
     "end_time": "2023-04-18T12:00:09.486105",
     "exception": false,
     "start_time": "2023-04-18T12:00:09.466268",
     "status": "completed"
    },
    "tags": []
   },
   "source": [
    "Extracting the best model:"
   ]
  },
  {
   "cell_type": "code",
   "execution_count": 23,
   "id": "a276954c",
   "metadata": {
    "execution": {
     "iopub.execute_input": "2023-04-18T12:00:09.528008Z",
     "iopub.status.busy": "2023-04-18T12:00:09.527559Z",
     "iopub.status.idle": "2023-04-18T12:11:39.427661Z",
     "shell.execute_reply": "2023-04-18T12:11:39.426217Z"
    },
    "executionInfo": {
     "elapsed": 1261994,
     "status": "ok",
     "timestamp": 1681781487927,
     "user": {
      "displayName": "Nikita Mahbub",
      "userId": "07436958521256395082"
     },
     "user_tz": -360
    },
    "id": "AAvEpR4MHmkP",
    "outputId": "ab9aae8f-b433-4a2b-baef-31d8f37529b9",
    "papermill": {
     "duration": 689.945734,
     "end_time": "2023-04-18T12:11:39.451697",
     "exception": false,
     "start_time": "2023-04-18T12:00:09.505963",
     "status": "completed"
    },
    "tags": []
   },
   "outputs": [
    {
     "name": "stderr",
     "output_type": "stream",
     "text": [
      "[Parallel(n_jobs=-1)]: Using backend LokyBackend with 4 concurrent workers.\n",
      "[Parallel(n_jobs=-1)]: Done  10 out of  10 | elapsed: 11.5min finished\n"
     ]
    },
    {
     "data": {
      "text/html": [
       "<div>\n",
       "<style scoped>\n",
       "    .dataframe tbody tr th:only-of-type {\n",
       "        vertical-align: middle;\n",
       "    }\n",
       "\n",
       "    .dataframe tbody tr th {\n",
       "        vertical-align: top;\n",
       "    }\n",
       "\n",
       "    .dataframe thead th {\n",
       "        text-align: right;\n",
       "    }\n",
       "</style>\n",
       "<table border=\"1\" class=\"dataframe\">\n",
       "  <thead>\n",
       "    <tr style=\"text-align: right;\">\n",
       "      <th></th>\n",
       "      <th>Model</th>\n",
       "      <th>Cross-validated root mean squared error</th>\n",
       "    </tr>\n",
       "  </thead>\n",
       "  <tbody>\n",
       "    <tr>\n",
       "      <th>0</th>\n",
       "      <td>Spline regression</td>\n",
       "      <td>13.587833</td>\n",
       "    </tr>\n",
       "    <tr>\n",
       "      <th>1</th>\n",
       "      <td>Random forest</td>\n",
       "      <td>9.055525</td>\n",
       "    </tr>\n",
       "    <tr>\n",
       "      <th>2</th>\n",
       "      <td>XGBoost</td>\n",
       "      <td>8.888523</td>\n",
       "    </tr>\n",
       "  </tbody>\n",
       "</table>\n",
       "</div>"
      ],
      "text/plain": [
       "               Model  Cross-validated root mean squared error\n",
       "0  Spline regression                                13.587833\n",
       "1      Random forest                                 9.055525\n",
       "2            XGBoost                                 8.888523"
      ]
     },
     "execution_count": 23,
     "metadata": {},
     "output_type": "execute_result"
    }
   ],
   "source": [
    "xgb_final = xgb_cv.best_estimator_\n",
    "\n",
    "xgb_model_and_scores = get_model_and_scores(xgb_final, 'XGBoost')\n",
    "append_model_and_scores(xgb_model_and_scores)"
   ]
  },
  {
   "cell_type": "markdown",
   "id": "eafe423e",
   "metadata": {
    "id": "ex-0HPv0HmkQ",
    "papermill": {
     "duration": 0.020029,
     "end_time": "2023-04-18T12:11:39.492003",
     "exception": false,
     "start_time": "2023-04-18T12:11:39.471974",
     "status": "completed"
    },
    "tags": []
   },
   "source": [
    "We see that the XGBoost model slighly outperforms the random forest, with an RMSE of 8.89 Kelvins. We have therefore achieved our objective of beating the RMSE obtained by the authors in their paper using our XGBoost model."
   ]
  }
 ],
 "metadata": {
  "kernelspec": {
   "display_name": "Python 3",
   "language": "python",
   "name": "python3"
  },
  "language_info": {
   "codemirror_mode": {
    "name": "ipython",
    "version": 3
   },
   "file_extension": ".py",
   "mimetype": "text/x-python",
   "name": "python",
   "nbconvert_exporter": "python",
   "pygments_lexer": "ipython3",
   "version": "3.7.12"
  },
  "papermill": {
   "default_parameters": {},
   "duration": 8284.259809,
   "end_time": "2023-04-18T12:11:42.253469",
   "environment_variables": {},
   "exception": null,
   "input_path": "__notebook__.ipynb",
   "output_path": "__notebook__.ipynb",
   "parameters": {},
   "start_time": "2023-04-18T09:53:37.993660",
   "version": "2.4.0"
  }
 },
 "nbformat": 4,
 "nbformat_minor": 5
}
